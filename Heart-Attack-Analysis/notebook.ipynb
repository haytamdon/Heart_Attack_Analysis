{
 "cells": [
  {
   "cell_type": "markdown",
   "source": "# Heart Attack Dataset Analysis",
   "metadata": {
    "tags": [],
    "cell_id": "00000-a749276e-a47f-4053-a4fb-58a376116e54",
    "deepnote_cell_type": "text-cell-h1"
   }
  },
  {
   "cell_type": "markdown",
   "source": "This is notebook is for analysing the Heart Attack dataset in kaggle (https://www.kaggle.com/rashikrahmanpritom/heart-attack-analysis-prediction-dataset) ",
   "metadata": {
    "tags": [],
    "cell_id": "00001-915fdaa8-08ff-47aa-8f40-6c0fae290ac5",
    "deepnote_cell_type": "text-cell-p"
   }
  },
  {
   "cell_type": "markdown",
   "source": "This notebook goes through each and every available variable that might contribute to the probability of a heart attack and gives an estimation of the values that might lead to a heart attack for every variable.",
   "metadata": {
    "tags": [],
    "deepnote_cell_type": "text-cell-p"
   }
  },
  {
   "cell_type": "code",
   "metadata": {
    "tags": [],
    "cell_id": "00000-e9ac05cc-a8ee-4d9a-8d77-ebe8a5f2d328",
    "deepnote_to_be_reexecuted": false,
    "source_hash": "288dc01b",
    "execution_millis": 3765,
    "execution_start": 1621458805026,
    "allow_embed": "code_output",
    "deepnote_cell_type": "code"
   },
   "source": "#Import libraries\nimport pandas as pd\nimport matplotlib.pyplot as plt\nimport numpy as np\nimport seaborn as sns\nimport sklearn",
   "outputs": [],
   "execution_count": null
  },
  {
   "cell_type": "code",
   "metadata": {
    "tags": [],
    "cell_id": "00001-dbfe4f83-ce40-4548-8ff9-9ebac45f084b",
    "deepnote_to_be_reexecuted": false,
    "source_hash": "aa64230f",
    "execution_millis": 16,
    "execution_start": 1621458808798,
    "deepnote_cell_type": "code"
   },
   "source": "#reading the csv files\no2_filepath='/work/o2Saturation.csv'\nheart_filepath='/work/heart.csv'\no2_data=pd.read_csv(o2_filepath)\nheart_data=pd.read_csv(heart_filepath)",
   "outputs": [],
   "execution_count": null
  },
  {
   "cell_type": "markdown",
   "source": "# O2 saturation Data",
   "metadata": {
    "tags": [],
    "cell_id": "00002-edbef940-d2b6-426c-adee-df5ff2f1b471",
    "deepnote_cell_type": "text-cell-h1"
   }
  },
  {
   "cell_type": "code",
   "metadata": {
    "tags": [],
    "cell_id": "00003-066b8e58-ec03-47f3-a925-e6375102935c",
    "deepnote_to_be_reexecuted": false,
    "source_hash": "92ff7dd5",
    "execution_millis": 31,
    "execution_start": 1621458808822,
    "deepnote_cell_type": "code"
   },
   "source": "o2_data.head()",
   "outputs": [
    {
     "output_type": "execute_result",
     "execution_count": 3,
     "data": {
      "application/vnd.deepnote.dataframe.v2+json": {
       "row_count": 5,
       "column_count": 1,
       "columns": [
        {
         "name": "98.6",
         "dtype": "float64",
         "stats": {
          "unique_count": 3,
          "nan_count": 0,
          "min": "97.5",
          "max": "98.6",
          "histogram": [
           {
            "bin_start": 97.5,
            "bin_end": 97.61,
            "count": 1
           },
           {
            "bin_start": 97.61,
            "bin_end": 97.72,
            "count": 0
           },
           {
            "bin_start": 97.72,
            "bin_end": 97.83,
            "count": 0
           },
           {
            "bin_start": 97.83,
            "bin_end": 97.94,
            "count": 0
           },
           {
            "bin_start": 97.94,
            "bin_end": 98.05,
            "count": 0
           },
           {
            "bin_start": 98.05,
            "bin_end": 98.16,
            "count": 1
           },
           {
            "bin_start": 98.16,
            "bin_end": 98.27,
            "count": 0
           },
           {
            "bin_start": 98.27,
            "bin_end": 98.38,
            "count": 0
           },
           {
            "bin_start": 98.38,
            "bin_end": 98.49,
            "count": 0
           },
           {
            "bin_start": 98.49,
            "bin_end": 98.6,
            "count": 3
           }
          ]
         }
        },
        {
         "name": "_deepnote_index_column",
         "dtype": "int64"
        }
       ],
       "rows_top": [
        {
         "98.6": 98.6,
         "_deepnote_index_column": 0
        },
        {
         "98.6": 98.6,
         "_deepnote_index_column": 1
        },
        {
         "98.6": 98.6,
         "_deepnote_index_column": 2
        },
        {
         "98.6": 98.1,
         "_deepnote_index_column": 3
        },
        {
         "98.6": 97.5,
         "_deepnote_index_column": 4
        }
       ],
       "rows_bottom": null
      },
      "text/plain": "   98.6\n0  98.6\n1  98.6\n2  98.6\n3  98.1\n4  97.5",
      "text/html": "<div>\n<style scoped>\n    .dataframe tbody tr th:only-of-type {\n        vertical-align: middle;\n    }\n\n    .dataframe tbody tr th {\n        vertical-align: top;\n    }\n\n    .dataframe thead th {\n        text-align: right;\n    }\n</style>\n<table border=\"1\" class=\"dataframe\">\n  <thead>\n    <tr style=\"text-align: right;\">\n      <th></th>\n      <th>98.6</th>\n    </tr>\n  </thead>\n  <tbody>\n    <tr>\n      <th>0</th>\n      <td>98.6</td>\n    </tr>\n    <tr>\n      <th>1</th>\n      <td>98.6</td>\n    </tr>\n    <tr>\n      <th>2</th>\n      <td>98.6</td>\n    </tr>\n    <tr>\n      <th>3</th>\n      <td>98.1</td>\n    </tr>\n    <tr>\n      <th>4</th>\n      <td>97.5</td>\n    </tr>\n  </tbody>\n</table>\n</div>"
     },
     "metadata": {}
    }
   ],
   "execution_count": null
  },
  {
   "cell_type": "code",
   "metadata": {
    "tags": [],
    "cell_id": "00004-2c7d9ad3-1892-4320-9f26-29e132303c03",
    "deepnote_to_be_reexecuted": false,
    "source_hash": "a88cc425",
    "execution_millis": 12,
    "execution_start": 1621458808857,
    "deepnote_cell_type": "code"
   },
   "source": "o2_data.columns",
   "outputs": [
    {
     "output_type": "execute_result",
     "execution_count": 4,
     "data": {
      "text/plain": "Index(['98.6'], dtype='object')"
     },
     "metadata": {}
    }
   ],
   "execution_count": null
  },
  {
   "cell_type": "code",
   "metadata": {
    "tags": [],
    "cell_id": "00005-8de08c0f-b26b-4d6d-9e4a-ac6309c85adc",
    "deepnote_to_be_reexecuted": false,
    "source_hash": "723daff1",
    "execution_millis": 25,
    "execution_start": 1621458808871,
    "deepnote_cell_type": "code"
   },
   "source": "o2_data[\"98.6\"].unique()",
   "outputs": [
    {
     "output_type": "execute_result",
     "execution_count": 5,
     "data": {
      "text/plain": "array([98.6, 98.1, 97.5, 98. , 97. , 96.5, 97.1, 97.6, 98.2, 96.9, 97.9,\n       97.2, 99.3, 98.9, 98.3, 99.6, 98.8])"
     },
     "metadata": {}
    }
   ],
   "execution_count": null
  },
  {
   "cell_type": "code",
   "metadata": {
    "tags": [],
    "cell_id": "00006-13e725ba-7de9-4fc9-b462-d3bd0e4e5ec6",
    "deepnote_to_be_reexecuted": false,
    "source_hash": "5b904b06",
    "execution_millis": 25,
    "execution_start": 1621458808890,
    "deepnote_cell_type": "code"
   },
   "source": "len(o2_data[\"98.6\"].unique())",
   "outputs": [
    {
     "output_type": "execute_result",
     "execution_count": 6,
     "data": {
      "text/plain": "17"
     },
     "metadata": {}
    }
   ],
   "execution_count": null
  },
  {
   "cell_type": "markdown",
   "source": "We can notice here that there isn't much variation in the levels of O2 saturation, and that there are only 17 unique values in our dataset.",
   "metadata": {
    "tags": [],
    "cell_id": "00007-321d6038-313a-4f0f-b58e-f486eef94cd8",
    "deepnote_cell_type": "text-cell-p"
   }
  },
  {
   "cell_type": "code",
   "metadata": {
    "tags": [],
    "cell_id": "00007-1b384467-bcb1-469b-aa79-105e2e7c6efd",
    "deepnote_to_be_reexecuted": false,
    "source_hash": "27542aad",
    "execution_millis": 18,
    "execution_start": 1621458808912,
    "deepnote_cell_type": "code"
   },
   "source": "o2_data.mean()",
   "outputs": [
    {
     "output_type": "execute_result",
     "execution_count": 7,
     "data": {
      "text/plain": "98.6    98.239275\ndtype: float64"
     },
     "metadata": {}
    }
   ],
   "execution_count": null
  },
  {
   "cell_type": "code",
   "metadata": {
    "tags": [],
    "cell_id": "00008-799a4f48-1a4a-4a1b-b209-b590fc214355",
    "deepnote_to_be_reexecuted": false,
    "source_hash": "bfe93272",
    "execution_millis": 241,
    "execution_start": 1621458808926,
    "deepnote_cell_type": "code"
   },
   "source": "fig, ax1=plt.subplots()\nplt.figure(figsize=(20,10))\nax1.set_title('box plot')\nax1.boxplot(o2_data)",
   "outputs": [
    {
     "output_type": "execute_result",
     "execution_count": 8,
     "data": {
      "text/plain": "{'whiskers': [<matplotlib.lines.Line2D at 0x7f008ee31450>,\n  <matplotlib.lines.Line2D at 0x7f008ee31810>],\n 'caps': [<matplotlib.lines.Line2D at 0x7f008ee31c50>,\n  <matplotlib.lines.Line2D at 0x7f008ee420d0>],\n 'boxes': [<matplotlib.lines.Line2D at 0x7f008ee7db50>],\n 'medians': [<matplotlib.lines.Line2D at 0x7f008ee42550>],\n 'fliers': [<matplotlib.lines.Line2D at 0x7f008ee42990>],\n 'means': []}"
     },
     "metadata": {}
    },
    {
     "data": {
      "text/plain": "<Figure size 432x288 with 1 Axes>",
      "image/png": "[encoded data removed]"
     },
     "metadata": {
      "needs_background": "light",
      "image/png": {
       "width": 378,
       "height": 264
      }
     },
     "output_type": "display_data"
    },
    {
     "data": {
      "text/plain": "<Figure size 1440x720 with 0 Axes>"
     },
     "metadata": {},
     "output_type": "display_data"
    }
   ],
   "execution_count": null
  },
  {
   "cell_type": "code",
   "metadata": {
    "tags": [],
    "cell_id": "00010-cf2b04e1-febd-4c10-8912-9c85e386d095",
    "deepnote_to_be_reexecuted": false,
    "source_hash": "75f41d32",
    "execution_millis": 7,
    "execution_start": 1621458809160,
    "deepnote_cell_type": "code"
   },
   "source": "o2_data.value_counts()",
   "outputs": [
    {
     "output_type": "execute_result",
     "execution_count": 9,
     "data": {
      "text/plain": "98.6\n98.6    1661\n97.5     704\n97.6     579\n99.6     359\n96.5     104\n98.2      32\n98.0      29\n97.9      25\n98.1      23\n99.3      21\n98.8      13\n97.1       9\n97.0       9\n98.9       8\n96.9       5\n97.2       3\n98.3       1\ndtype: int64"
     },
     "metadata": {}
    }
   ],
   "execution_count": null
  },
  {
   "cell_type": "code",
   "metadata": {
    "tags": [],
    "cell_id": "00009-cc7cc01f-0c97-4ed2-927f-2b924ea9a032",
    "deepnote_to_be_reexecuted": false,
    "source_hash": "673650de",
    "execution_millis": 60,
    "execution_start": 1621458809161,
    "deepnote_cell_type": "code"
   },
   "source": "o2_data.describe()",
   "outputs": [
    {
     "output_type": "execute_result",
     "execution_count": 10,
     "data": {
      "application/vnd.deepnote.dataframe.v2+json": {
       "row_count": 8,
       "column_count": 1,
       "columns": [
        {
         "name": "98.6",
         "dtype": "float64",
         "stats": {
          "unique_count": 7,
          "nan_count": 0,
          "min": "0.726336152216818",
          "max": "3585.0",
          "histogram": [
           {
            "bin_start": 0.726336152216818,
            "bin_end": 359.1537025369952,
            "count": 7
           },
           {
            "bin_start": 359.1537025369952,
            "bin_end": 717.5810689217735,
            "count": 0
           },
           {
            "bin_start": 717.5810689217735,
            "bin_end": 1076.0084353065517,
            "count": 0
           },
           {
            "bin_start": 1076.0084353065517,
            "bin_end": 1434.4358016913302,
            "count": 0
           },
           {
            "bin_start": 1434.4358016913302,
            "bin_end": 1792.8631680761086,
            "count": 0
           },
           {
            "bin_start": 1792.8631680761086,
            "bin_end": 2151.2905344608866,
            "count": 0
           },
           {
            "bin_start": 2151.2905344608866,
            "bin_end": 2509.717900845665,
            "count": 0
           },
           {
            "bin_start": 2509.717900845665,
            "bin_end": 2868.1452672304436,
            "count": 0
           },
           {
            "bin_start": 2868.1452672304436,
            "bin_end": 3226.572633615222,
            "count": 0
           },
           {
            "bin_start": 3226.572633615222,
            "bin_end": 3585,
            "count": 1
           }
          ]
         }
        },
        {
         "name": "_deepnote_index_column",
         "dtype": "object"
        }
       ],
       "rows_top": [
        {
         "98.6": 3585,
         "_deepnote_index_column": "count"
        },
        {
         "98.6": 98.23927475592745,
         "_deepnote_index_column": "mean"
        },
        {
         "98.6": 0.726336152216818,
         "_deepnote_index_column": "std"
        },
        {
         "98.6": 96.5,
         "_deepnote_index_column": "min"
        },
        {
         "98.6": 97.6,
         "_deepnote_index_column": "25%"
        },
        {
         "98.6": 98.6,
         "_deepnote_index_column": "50%"
        },
        {
         "98.6": 98.6,
         "_deepnote_index_column": "75%"
        },
        {
         "98.6": 99.6,
         "_deepnote_index_column": "max"
        }
       ],
       "rows_bottom": null
      },
      "text/plain": "              98.6\ncount  3585.000000\nmean     98.239275\nstd       0.726336\nmin      96.500000\n25%      97.600000\n50%      98.600000\n75%      98.600000\nmax      99.600000",
      "text/html": "<div>\n<style scoped>\n    .dataframe tbody tr th:only-of-type {\n        vertical-align: middle;\n    }\n\n    .dataframe tbody tr th {\n        vertical-align: top;\n    }\n\n    .dataframe thead th {\n        text-align: right;\n    }\n</style>\n<table border=\"1\" class=\"dataframe\">\n  <thead>\n    <tr style=\"text-align: right;\">\n      <th></th>\n      <th>98.6</th>\n    </tr>\n  </thead>\n  <tbody>\n    <tr>\n      <th>count</th>\n      <td>3585.000000</td>\n    </tr>\n    <tr>\n      <th>mean</th>\n      <td>98.239275</td>\n    </tr>\n    <tr>\n      <th>std</th>\n      <td>0.726336</td>\n    </tr>\n    <tr>\n      <th>min</th>\n      <td>96.500000</td>\n    </tr>\n    <tr>\n      <th>25%</th>\n      <td>97.600000</td>\n    </tr>\n    <tr>\n      <th>50%</th>\n      <td>98.600000</td>\n    </tr>\n    <tr>\n      <th>75%</th>\n      <td>98.600000</td>\n    </tr>\n    <tr>\n      <th>max</th>\n      <td>99.600000</td>\n    </tr>\n  </tbody>\n</table>\n</div>"
     },
     "metadata": {}
    }
   ],
   "execution_count": null
  },
  {
   "cell_type": "markdown",
   "source": "Through these previous blocks of code, we can conclude that the standard level of O2 saturation ranges from 96.5 to 98.6",
   "metadata": {
    "tags": [],
    "cell_id": "00012-d9fdc06b-d02c-4965-b200-dc25bc94a5c9",
    "deepnote_cell_type": "text-cell-p"
   }
  },
  {
   "cell_type": "code",
   "metadata": {
    "tags": [],
    "cell_id": "00013-642c7d86-3383-4ebd-a187-e354945c8df1",
    "deepnote_to_be_reexecuted": false,
    "source_hash": "8c890fe",
    "execution_millis": 5,
    "execution_start": 1621458809266,
    "deepnote_cell_type": "code"
   },
   "source": "n=0\ns=o2_data.squeeze()\nfor i in range  (0,len(o2_data['98.6'])):\n    if 96.5<= s[i] <=98.6:\n        n+=1\nprint(n)",
   "outputs": [
    {
     "name": "stdout",
     "text": "3184\n",
     "output_type": "stream"
    }
   ],
   "execution_count": null
  },
  {
   "cell_type": "code",
   "metadata": {
    "tags": [],
    "cell_id": "00010-cc2e63ac-c75f-47d3-8f4d-7b84e25992cf",
    "deepnote_to_be_reexecuted": false,
    "source_hash": "f49e2b9d",
    "execution_millis": 53,
    "execution_start": 1621458809267,
    "deepnote_cell_type": "code"
   },
   "source": "o2_data.info()",
   "outputs": [
    {
     "name": "stdout",
     "text": "<class 'pandas.core.frame.DataFrame'>\nRangeIndex: 3585 entries, 0 to 3584\nData columns (total 1 columns):\n #   Column  Non-Null Count  Dtype  \n---  ------  --------------  -----  \n 0   98.6    3585 non-null   float64\ndtypes: float64(1)\nmemory usage: 28.1 KB\n",
     "output_type": "stream"
    }
   ],
   "execution_count": null
  },
  {
   "cell_type": "code",
   "metadata": {
    "tags": [],
    "cell_id": "00015-9d1bad64-f275-4ff9-9041-c57f3a04be89",
    "deepnote_to_be_reexecuted": false,
    "source_hash": "16d1a168",
    "execution_millis": 0,
    "execution_start": 1621458809315,
    "deepnote_cell_type": "code"
   },
   "source": "100*(3184/3585)",
   "outputs": [
    {
     "output_type": "execute_result",
     "execution_count": 13,
     "data": {
      "text/plain": "88.81450488145049"
     },
     "metadata": {}
    }
   ],
   "execution_count": null
  },
  {
   "cell_type": "markdown",
   "source": "Since the values ranging from 96.5 to 98.6 represent 88.81% of the values then it's safe to assume that usual values are these values, adding that the most common one out of them is 96.5",
   "metadata": {
    "tags": [],
    "cell_id": "00015-fc25e932-4608-4ed8-8ecb-6250fe5ec866",
    "deepnote_cell_type": "text-cell-p"
   }
  },
  {
   "cell_type": "code",
   "metadata": {
    "tags": [],
    "cell_id": "00007-37bf964d-18f4-4290-99b9-e867a4c3d081",
    "deepnote_to_be_reexecuted": false,
    "source_hash": "813b7a56",
    "execution_millis": 333,
    "execution_start": 1621458809315,
    "deepnote_cell_type": "code"
   },
   "source": "plt.figure(figsize=(16,7))\nsns.histplot(data=o2_data['98.6'], bins=40)",
   "outputs": [
    {
     "output_type": "execute_result",
     "execution_count": 14,
     "data": {
      "text/plain": "<AxesSubplot:xlabel='98.6', ylabel='Count'>"
     },
     "metadata": {}
    },
    {
     "data": {
      "text/plain": "<Figure size 1152x504 with 1 Axes>",
      "image/png": "[encoded data removed]"
     },
     "metadata": {
      "needs_background": "light",
      "image/png": {
       "width": 953,
       "height": 425
      }
     },
     "output_type": "display_data"
    }
   ],
   "execution_count": null
  },
  {
   "cell_type": "markdown",
   "source": "# Heart Attack Dataset",
   "metadata": {
    "tags": [],
    "cell_id": "00019-9d7c4fb3-d590-426c-8521-3fe5ff770c15",
    "deepnote_cell_type": "text-cell-h1"
   }
  },
  {
   "cell_type": "markdown",
   "source": "## Data preparation",
   "metadata": {
    "tags": [],
    "cell_id": "00019-b4507449-e606-4387-8f3e-ba73071f8fb8",
    "deepnote_cell_type": "text-cell-h2"
   }
  },
  {
   "cell_type": "code",
   "metadata": {
    "tags": [],
    "cell_id": "00019-2b16fb34-751c-4de7-85ba-71110b1863f7",
    "deepnote_to_be_reexecuted": false,
    "source_hash": "25234fa9",
    "execution_start": 1621458809650,
    "execution_millis": 146,
    "deepnote_cell_type": "code"
   },
   "source": "#spliting the data into training and test data\nfrom sklearn.model_selection import train_test_split\ntrain_set, test_set = train_test_split(heart_data, test_size=0.2, random_state=42)",
   "outputs": [],
   "execution_count": null
  },
  {
   "cell_type": "code",
   "metadata": {
    "tags": [],
    "cell_id": "00020-a5d79836-1e19-4ca3-9917-815db75d8912",
    "deepnote_to_be_reexecuted": false,
    "source_hash": "7d162562",
    "execution_start": 1621458809801,
    "execution_millis": 7,
    "deepnote_cell_type": "code"
   },
   "source": "#resetting the indexes\ntrain_set=train_set.reset_index(drop=True)\ntest_set=test_set.reset_index(drop=True)",
   "outputs": [],
   "execution_count": null
  },
  {
   "cell_type": "code",
   "metadata": {
    "tags": [],
    "cell_id": "00010-e5809976-0d2c-4935-abb1-13d061d1ed6f",
    "deepnote_to_be_reexecuted": false,
    "source_hash": "88873ab3",
    "execution_millis": 57,
    "execution_start": 1621458809813,
    "deepnote_cell_type": "code"
   },
   "source": "train_set.head()",
   "outputs": [
    {
     "output_type": "execute_result",
     "execution_count": 17,
     "data": {
      "application/vnd.deepnote.dataframe.v2+json": {
       "row_count": 5,
       "column_count": 14,
       "columns": [
        {
         "name": "age",
         "dtype": "int64",
         "stats": {
          "unique_count": 5,
          "nan_count": 0,
          "min": "42",
          "max": "60",
          "histogram": [
           {
            "bin_start": 42,
            "bin_end": 43.8,
            "count": 1
           },
           {
            "bin_start": 43.8,
            "bin_end": 45.6,
            "count": 0
           },
           {
            "bin_start": 45.6,
            "bin_end": 47.4,
            "count": 1
           },
           {
            "bin_start": 47.4,
            "bin_end": 49.2,
            "count": 0
           },
           {
            "bin_start": 49.2,
            "bin_end": 51,
            "count": 0
           },
           {
            "bin_start": 51,
            "bin_end": 52.8,
            "count": 0
           },
           {
            "bin_start": 52.8,
            "bin_end": 54.6,
            "count": 0
           },
           {
            "bin_start": 54.6,
            "bin_end": 56.4,
            "count": 1
           },
           {
            "bin_start": 56.4,
            "bin_end": 58.2,
            "count": 1
           },
           {
            "bin_start": 58.2,
            "bin_end": 60,
            "count": 1
           }
          ]
         }
        },
        {
         "name": "sex",
         "dtype": "int64",
         "stats": {
          "unique_count": 2,
          "nan_count": 0,
          "min": "0",
          "max": "1",
          "histogram": [
           {
            "bin_start": 0,
            "bin_end": 0.1,
            "count": 1
           },
           {
            "bin_start": 0.1,
            "bin_end": 0.2,
            "count": 0
           },
           {
            "bin_start": 0.2,
            "bin_end": 0.30000000000000004,
            "count": 0
           },
           {
            "bin_start": 0.30000000000000004,
            "bin_end": 0.4,
            "count": 0
           },
           {
            "bin_start": 0.4,
            "bin_end": 0.5,
            "count": 0
           },
           {
            "bin_start": 0.5,
            "bin_end": 0.6000000000000001,
            "count": 0
           },
           {
            "bin_start": 0.6000000000000001,
            "bin_end": 0.7000000000000001,
            "count": 0
           },
           {
            "bin_start": 0.7000000000000001,
            "bin_end": 0.8,
            "count": 0
           },
           {
            "bin_start": 0.8,
            "bin_end": 0.9,
            "count": 0
           },
           {
            "bin_start": 0.9,
            "bin_end": 1,
            "count": 4
           }
          ]
         }
        },
        {
         "name": "cp",
         "dtype": "int64",
         "stats": {
          "unique_count": 3,
          "nan_count": 0,
          "min": "0",
          "max": "2",
          "histogram": [
           {
            "bin_start": 0,
            "bin_end": 0.2,
            "count": 2
           },
           {
            "bin_start": 0.2,
            "bin_end": 0.4,
            "count": 0
           },
           {
            "bin_start": 0.4,
            "bin_end": 0.6000000000000001,
            "count": 0
           },
           {
            "bin_start": 0.6000000000000001,
            "bin_end": 0.8,
            "count": 0
           },
           {
            "bin_start": 0.8,
            "bin_end": 1,
            "count": 0
           },
           {
            "bin_start": 1,
            "bin_end": 1.2000000000000002,
            "count": 2
           },
           {
            "bin_start": 1.2000000000000002,
            "bin_end": 1.4000000000000001,
            "count": 0
           },
           {
            "bin_start": 1.4000000000000001,
            "bin_end": 1.6,
            "count": 0
           },
           {
            "bin_start": 1.6,
            "bin_end": 1.8,
            "count": 0
           },
           {
            "bin_start": 1.8,
            "bin_end": 2,
            "count": 1
           }
          ]
         }
        },
        {
         "name": "trtbps",
         "dtype": "int64",
         "stats": {
          "unique_count": 4,
          "nan_count": 0,
          "min": "117",
          "max": "150",
          "histogram": [
           {
            "bin_start": 117,
            "bin_end": 120.3,
            "count": 2
           },
           {
            "bin_start": 120.3,
            "bin_end": 123.6,
            "count": 0
           },
           {
            "bin_start": 123.6,
            "bin_end": 126.9,
            "count": 0
           },
           {
            "bin_start": 126.9,
            "bin_end": 130.2,
            "count": 0
           },
           {
            "bin_start": 130.2,
            "bin_end": 133.5,
            "count": 0
           },
           {
            "bin_start": 133.5,
            "bin_end": 136.8,
            "count": 1
           },
           {
            "bin_start": 136.8,
            "bin_end": 140.1,
            "count": 0
           },
           {
            "bin_start": 140.1,
            "bin_end": 143.4,
            "count": 0
           },
           {
            "bin_start": 143.4,
            "bin_end": 146.7,
            "count": 0
           },
           {
            "bin_start": 146.7,
            "bin_end": 150,
            "count": 2
           }
          ]
         }
        },
        {
         "name": "chol",
         "dtype": "int64",
         "stats": {
          "unique_count": 5,
          "nan_count": 0,
          "min": "230",
          "max": "295",
          "histogram": [
           {
            "bin_start": 230,
            "bin_end": 236.5,
            "count": 2
           },
           {
            "bin_start": 236.5,
            "bin_end": 243,
            "count": 0
           },
           {
            "bin_start": 243,
            "bin_end": 249.5,
            "count": 0
           },
           {
            "bin_start": 249.5,
            "bin_end": 256,
            "count": 1
           },
           {
            "bin_start": 256,
            "bin_end": 262.5,
            "count": 0
           },
           {
            "bin_start": 262.5,
            "bin_end": 269,
            "count": 0
           },
           {
            "bin_start": 269,
            "bin_end": 275.5,
            "count": 1
           },
           {
            "bin_start": 275.5,
            "bin_end": 282,
            "count": 0
           },
           {
            "bin_start": 282,
            "bin_end": 288.5,
            "count": 0
           },
           {
            "bin_start": 288.5,
            "bin_end": 295,
            "count": 1
           }
          ]
         }
        },
        {
         "name": "fbs",
         "dtype": "int64",
         "stats": {
          "unique_count": 2,
          "nan_count": 0,
          "min": "0",
          "max": "1",
          "histogram": [
           {
            "bin_start": 0,
            "bin_end": 0.1,
            "count": 4
           },
           {
            "bin_start": 0.1,
            "bin_end": 0.2,
            "count": 0
           },
           {
            "bin_start": 0.2,
            "bin_end": 0.30000000000000004,
            "count": 0
           },
           {
            "bin_start": 0.30000000000000004,
            "bin_end": 0.4,
            "count": 0
           },
           {
            "bin_start": 0.4,
            "bin_end": 0.5,
            "count": 0
           },
           {
            "bin_start": 0.5,
            "bin_end": 0.6000000000000001,
            "count": 0
           },
           {
            "bin_start": 0.6000000000000001,
            "bin_end": 0.7000000000000001,
            "count": 0
           },
           {
            "bin_start": 0.7000000000000001,
            "bin_end": 0.8,
            "count": 0
           },
           {
            "bin_start": 0.8,
            "bin_end": 0.9,
            "count": 0
           },
           {
            "bin_start": 0.9,
            "bin_end": 1,
            "count": 1
           }
          ]
         }
        },
        {
         "name": "restecg",
         "dtype": "int64",
         "stats": {
          "unique_count": 2,
          "nan_count": 0,
          "min": "0",
          "max": "1",
          "histogram": [
           {
            "bin_start": 0,
            "bin_end": 0.1,
            "count": 2
           },
           {
            "bin_start": 0.1,
            "bin_end": 0.2,
            "count": 0
           },
           {
            "bin_start": 0.2,
            "bin_end": 0.30000000000000004,
            "count": 0
           },
           {
            "bin_start": 0.30000000000000004,
            "bin_end": 0.4,
            "count": 0
           },
           {
            "bin_start": 0.4,
            "bin_end": 0.5,
            "count": 0
           },
           {
            "bin_start": 0.5,
            "bin_end": 0.6000000000000001,
            "count": 0
           },
           {
            "bin_start": 0.6000000000000001,
            "bin_end": 0.7000000000000001,
            "count": 0
           },
           {
            "bin_start": 0.7000000000000001,
            "bin_end": 0.8,
            "count": 0
           },
           {
            "bin_start": 0.8,
            "bin_end": 0.9,
            "count": 0
           },
           {
            "bin_start": 0.9,
            "bin_end": 1,
            "count": 3
           }
          ]
         }
        },
        {
         "name": "thalachh",
         "dtype": "int64",
         "stats": {
          "unique_count": 5,
          "nan_count": 0,
          "min": "111",
          "max": "162",
          "histogram": [
           {
            "bin_start": 111,
            "bin_end": 116.1,
            "count": 1
           },
           {
            "bin_start": 116.1,
            "bin_end": 121.2,
            "count": 0
           },
           {
            "bin_start": 121.2,
            "bin_end": 126.3,
            "count": 0
           },
           {
            "bin_start": 126.3,
            "bin_end": 131.4,
            "count": 0
           },
           {
            "bin_start": 131.4,
            "bin_end": 136.5,
            "count": 0
           },
           {
            "bin_start": 136.5,
            "bin_end": 141.6,
            "count": 0
           },
           {
            "bin_start": 141.6,
            "bin_end": 146.7,
            "count": 0
           },
           {
            "bin_start": 146.7,
            "bin_end": 151.8,
            "count": 1
           },
           {
            "bin_start": 151.8,
            "bin_end": 156.9,
            "count": 0
           },
           {
            "bin_start": 156.9,
            "bin_end": 162,
            "count": 3
           }
          ]
         }
        },
        {
         "name": "exng",
         "dtype": "int64",
         "stats": {
          "unique_count": 2,
          "nan_count": 0,
          "min": "0",
          "max": "1",
          "histogram": [
           {
            "bin_start": 0,
            "bin_end": 0.1,
            "count": 3
           },
           {
            "bin_start": 0.1,
            "bin_end": 0.2,
            "count": 0
           },
           {
            "bin_start": 0.2,
            "bin_end": 0.30000000000000004,
            "count": 0
           },
           {
            "bin_start": 0.30000000000000004,
            "bin_end": 0.4,
            "count": 0
           },
           {
            "bin_start": 0.4,
            "bin_end": 0.5,
            "count": 0
           },
           {
            "bin_start": 0.5,
            "bin_end": 0.6000000000000001,
            "count": 0
           },
           {
            "bin_start": 0.6000000000000001,
            "bin_end": 0.7000000000000001,
            "count": 0
           },
           {
            "bin_start": 0.7000000000000001,
            "bin_end": 0.8,
            "count": 0
           },
           {
            "bin_start": 0.8,
            "bin_end": 0.9,
            "count": 0
           },
           {
            "bin_start": 0.9,
            "bin_end": 1,
            "count": 2
           }
          ]
         }
        },
        {
         "name": "oldpeak",
         "dtype": "float64",
         "stats": {
          "unique_count": 4,
          "nan_count": 0,
          "min": "0.0",
          "max": "3.6",
          "histogram": [
           {
            "bin_start": 0,
            "bin_end": 0.36,
            "count": 1
           },
           {
            "bin_start": 0.36,
            "bin_end": 0.72,
            "count": 0
           },
           {
            "bin_start": 0.72,
            "bin_end": 1.08,
            "count": 1
           },
           {
            "bin_start": 1.08,
            "bin_end": 1.44,
            "count": 2
           },
           {
            "bin_start": 1.44,
            "bin_end": 1.7999999999999998,
            "count": 0
           },
           {
            "bin_start": 1.7999999999999998,
            "bin_end": 2.16,
            "count": 0
           },
           {
            "bin_start": 2.16,
            "bin_end": 2.52,
            "count": 0
           },
           {
            "bin_start": 2.52,
            "bin_end": 2.88,
            "count": 0
           },
           {
            "bin_start": 2.88,
            "bin_end": 3.2399999999999998,
            "count": 0
           },
           {
            "bin_start": 3.2399999999999998,
            "bin_end": 3.6,
            "count": 1
           }
          ]
         }
        },
        {
         "name": "slp",
         "dtype": "int64",
         "stats": {
          "unique_count": 2,
          "nan_count": 0,
          "min": "1",
          "max": "2",
          "histogram": [
           {
            "bin_start": 1,
            "bin_end": 1.1,
            "count": 2
           },
           {
            "bin_start": 1.1,
            "bin_end": 1.2,
            "count": 0
           },
           {
            "bin_start": 1.2,
            "bin_end": 1.3,
            "count": 0
           },
           {
            "bin_start": 1.3,
            "bin_end": 1.4,
            "count": 0
           },
           {
            "bin_start": 1.4,
            "bin_end": 1.5,
            "count": 0
           },
           {
            "bin_start": 1.5,
            "bin_end": 1.6,
            "count": 0
           },
           {
            "bin_start": 1.6,
            "bin_end": 1.7000000000000002,
            "count": 0
           },
           {
            "bin_start": 1.7000000000000002,
            "bin_end": 1.8,
            "count": 0
           },
           {
            "bin_start": 1.8,
            "bin_end": 1.9,
            "count": 0
           },
           {
            "bin_start": 1.9,
            "bin_end": 2,
            "count": 3
           }
          ]
         }
        },
        {
         "name": "caa",
         "dtype": "int64",
         "stats": {
          "unique_count": 2,
          "nan_count": 0,
          "min": "0",
          "max": "2",
          "histogram": [
           {
            "bin_start": 0,
            "bin_end": 0.2,
            "count": 4
           },
           {
            "bin_start": 0.2,
            "bin_end": 0.4,
            "count": 0
           },
           {
            "bin_start": 0.4,
            "bin_end": 0.6000000000000001,
            "count": 0
           },
           {
            "bin_start": 0.6000000000000001,
            "bin_end": 0.8,
            "count": 0
           },
           {
            "bin_start": 0.8,
            "bin_end": 1,
            "count": 0
           },
           {
            "bin_start": 1,
            "bin_end": 1.2000000000000002,
            "count": 0
           },
           {
            "bin_start": 1.2000000000000002,
            "bin_end": 1.4000000000000001,
            "count": 0
           },
           {
            "bin_start": 1.4000000000000001,
            "bin_end": 1.6,
            "count": 0
           },
           {
            "bin_start": 1.6,
            "bin_end": 1.8,
            "count": 0
           },
           {
            "bin_start": 1.8,
            "bin_end": 2,
            "count": 1
           }
          ]
         }
        },
        {
         "name": "thall",
         "dtype": "int64",
         "stats": {
          "unique_count": 2,
          "nan_count": 0,
          "min": "2",
          "max": "3",
          "histogram": [
           {
            "bin_start": 2,
            "bin_end": 2.1,
            "count": 3
           },
           {
            "bin_start": 2.1,
            "bin_end": 2.2,
            "count": 0
           },
           {
            "bin_start": 2.2,
            "bin_end": 2.3,
            "count": 0
           },
           {
            "bin_start": 2.3,
            "bin_end": 2.4,
            "count": 0
           },
           {
            "bin_start": 2.4,
            "bin_end": 2.5,
            "count": 0
           },
           {
            "bin_start": 2.5,
            "bin_end": 2.6,
            "count": 0
           },
           {
            "bin_start": 2.6,
            "bin_end": 2.7,
            "count": 0
           },
           {
            "bin_start": 2.7,
            "bin_end": 2.8,
            "count": 0
           },
           {
            "bin_start": 2.8,
            "bin_end": 2.9,
            "count": 0
           },
           {
            "bin_start": 2.9,
            "bin_end": 3,
            "count": 2
           }
          ]
         }
        },
        {
         "name": "output",
         "dtype": "int64",
         "stats": {
          "unique_count": 2,
          "nan_count": 0,
          "min": "0",
          "max": "1",
          "histogram": [
           {
            "bin_start": 0,
            "bin_end": 0.1,
            "count": 3
           },
           {
            "bin_start": 0.1,
            "bin_end": 0.2,
            "count": 0
           },
           {
            "bin_start": 0.2,
            "bin_end": 0.30000000000000004,
            "count": 0
           },
           {
            "bin_start": 0.30000000000000004,
            "bin_end": 0.4,
            "count": 0
           },
           {
            "bin_start": 0.4,
            "bin_end": 0.5,
            "count": 0
           },
           {
            "bin_start": 0.5,
            "bin_end": 0.6000000000000001,
            "count": 0
           },
           {
            "bin_start": 0.6000000000000001,
            "bin_end": 0.7000000000000001,
            "count": 0
           },
           {
            "bin_start": 0.7000000000000001,
            "bin_end": 0.8,
            "count": 0
           },
           {
            "bin_start": 0.8,
            "bin_end": 0.9,
            "count": 0
           },
           {
            "bin_start": 0.9,
            "bin_end": 1,
            "count": 2
           }
          ]
         }
        },
        {
         "name": "_deepnote_index_column",
         "dtype": "int64"
        }
       ],
       "rows_top": [
        {
         "age": 42,
         "sex": 1,
         "cp": 1,
         "trtbps": 120,
         "chol": 295,
         "fbs": 0,
         "restecg": 1,
         "thalachh": 162,
         "exng": 0,
         "oldpeak": 0,
         "slp": 2,
         "caa": 0,
         "thall": 2,
         "output": 1,
         "_deepnote_index_column": 0
        },
        {
         "age": 58,
         "sex": 1,
         "cp": 0,
         "trtbps": 150,
         "chol": 270,
         "fbs": 0,
         "restecg": 0,
         "thalachh": 111,
         "exng": 1,
         "oldpeak": 0.8,
         "slp": 2,
         "caa": 0,
         "thall": 3,
         "output": 0,
         "_deepnote_index_column": 1
        },
        {
         "age": 46,
         "sex": 1,
         "cp": 2,
         "trtbps": 150,
         "chol": 231,
         "fbs": 0,
         "restecg": 1,
         "thalachh": 147,
         "exng": 0,
         "oldpeak": 3.6,
         "slp": 1,
         "caa": 0,
         "thall": 2,
         "output": 0,
         "_deepnote_index_column": 2
        },
        {
         "age": 55,
         "sex": 0,
         "cp": 1,
         "trtbps": 135,
         "chol": 250,
         "fbs": 0,
         "restecg": 0,
         "thalachh": 161,
         "exng": 0,
         "oldpeak": 1.4,
         "slp": 1,
         "caa": 0,
         "thall": 2,
         "output": 1,
         "_deepnote_index_column": 3
        },
        {
         "age": 60,
         "sex": 1,
         "cp": 0,
         "trtbps": 117,
         "chol": 230,
         "fbs": 1,
         "restecg": 1,
         "thalachh": 160,
         "exng": 1,
         "oldpeak": 1.4,
         "slp": 2,
         "caa": 2,
         "thall": 3,
         "output": 0,
         "_deepnote_index_column": 4
        }
       ],
       "rows_bottom": null
      },
      "text/plain": "   age  sex  cp  trtbps  chol  fbs  restecg  thalachh  exng  oldpeak  slp  \\\n0   42    1   1     120   295    0        1       162     0      0.0    2   \n1   58    1   0     150   270    0        0       111     1      0.8    2   \n2   46    1   2     150   231    0        1       147     0      3.6    1   \n3   55    0   1     135   250    0        0       161     0      1.4    1   \n4   60    1   0     117   230    1        1       160     1      1.4    2   \n\n   caa  thall  output  \n0    0      2       1  \n1    0      3       0  \n2    0      2       0  \n3    0      2       1  \n4    2      3       0  ",
      "text/html": "<div>\n<style scoped>\n    .dataframe tbody tr th:only-of-type {\n        vertical-align: middle;\n    }\n\n    .dataframe tbody tr th {\n        vertical-align: top;\n    }\n\n    .dataframe thead th {\n        text-align: right;\n    }\n</style>\n<table border=\"1\" class=\"dataframe\">\n  <thead>\n    <tr style=\"text-align: right;\">\n      <th></th>\n      <th>age</th>\n      <th>sex</th>\n      <th>cp</th>\n      <th>trtbps</th>\n      <th>chol</th>\n      <th>fbs</th>\n      <th>restecg</th>\n      <th>thalachh</th>\n      <th>exng</th>\n      <th>oldpeak</th>\n      <th>slp</th>\n      <th>caa</th>\n      <th>thall</th>\n      <th>output</th>\n    </tr>\n  </thead>\n  <tbody>\n    <tr>\n      <th>0</th>\n      <td>42</td>\n      <td>1</td>\n      <td>1</td>\n      <td>120</td>\n      <td>295</td>\n      <td>0</td>\n      <td>1</td>\n      <td>162</td>\n      <td>0</td>\n      <td>0.0</td>\n      <td>2</td>\n      <td>0</td>\n      <td>2</td>\n      <td>1</td>\n    </tr>\n    <tr>\n      <th>1</th>\n      <td>58</td>\n      <td>1</td>\n      <td>0</td>\n      <td>150</td>\n      <td>270</td>\n      <td>0</td>\n      <td>0</td>\n      <td>111</td>\n      <td>1</td>\n      <td>0.8</td>\n      <td>2</td>\n      <td>0</td>\n      <td>3</td>\n      <td>0</td>\n    </tr>\n    <tr>\n      <th>2</th>\n      <td>46</td>\n      <td>1</td>\n      <td>2</td>\n      <td>150</td>\n      <td>231</td>\n      <td>0</td>\n      <td>1</td>\n      <td>147</td>\n      <td>0</td>\n      <td>3.6</td>\n      <td>1</td>\n      <td>0</td>\n      <td>2</td>\n      <td>0</td>\n    </tr>\n    <tr>\n      <th>3</th>\n      <td>55</td>\n      <td>0</td>\n      <td>1</td>\n      <td>135</td>\n      <td>250</td>\n      <td>0</td>\n      <td>0</td>\n      <td>161</td>\n      <td>0</td>\n      <td>1.4</td>\n      <td>1</td>\n      <td>0</td>\n      <td>2</td>\n      <td>1</td>\n    </tr>\n    <tr>\n      <th>4</th>\n      <td>60</td>\n      <td>1</td>\n      <td>0</td>\n      <td>117</td>\n      <td>230</td>\n      <td>1</td>\n      <td>1</td>\n      <td>160</td>\n      <td>1</td>\n      <td>1.4</td>\n      <td>2</td>\n      <td>2</td>\n      <td>3</td>\n      <td>0</td>\n    </tr>\n  </tbody>\n</table>\n</div>"
     },
     "metadata": {}
    }
   ],
   "execution_count": null
  },
  {
   "cell_type": "code",
   "metadata": {
    "tags": [],
    "cell_id": "00022-04ee0c19-3e04-4d60-b1b5-849585e27ac7",
    "deepnote_to_be_reexecuted": false,
    "source_hash": "1aa59904",
    "execution_start": 1621458809861,
    "execution_millis": 42,
    "deepnote_cell_type": "code"
   },
   "source": "test_set.head()",
   "outputs": [
    {
     "output_type": "execute_result",
     "execution_count": 18,
     "data": {
      "application/vnd.deepnote.dataframe.v2+json": {
       "row_count": 5,
       "column_count": 14,
       "columns": [
        {
         "name": "age",
         "dtype": "int64",
         "stats": {
          "unique_count": 4,
          "nan_count": 0,
          "min": "56",
          "max": "71",
          "histogram": [
           {
            "bin_start": 56,
            "bin_end": 57.5,
            "count": 3
           },
           {
            "bin_start": 57.5,
            "bin_end": 59,
            "count": 0
           },
           {
            "bin_start": 59,
            "bin_end": 60.5,
            "count": 1
           },
           {
            "bin_start": 60.5,
            "bin_end": 62,
            "count": 0
           },
           {
            "bin_start": 62,
            "bin_end": 63.5,
            "count": 0
           },
           {
            "bin_start": 63.5,
            "bin_end": 65,
            "count": 0
           },
           {
            "bin_start": 65,
            "bin_end": 66.5,
            "count": 0
           },
           {
            "bin_start": 66.5,
            "bin_end": 68,
            "count": 0
           },
           {
            "bin_start": 68,
            "bin_end": 69.5,
            "count": 0
           },
           {
            "bin_start": 69.5,
            "bin_end": 71,
            "count": 1
           }
          ]
         }
        },
        {
         "name": "sex",
         "dtype": "int64",
         "stats": {
          "unique_count": 2,
          "nan_count": 0,
          "min": "0",
          "max": "1",
          "histogram": [
           {
            "bin_start": 0,
            "bin_end": 0.1,
            "count": 2
           },
           {
            "bin_start": 0.1,
            "bin_end": 0.2,
            "count": 0
           },
           {
            "bin_start": 0.2,
            "bin_end": 0.30000000000000004,
            "count": 0
           },
           {
            "bin_start": 0.30000000000000004,
            "bin_end": 0.4,
            "count": 0
           },
           {
            "bin_start": 0.4,
            "bin_end": 0.5,
            "count": 0
           },
           {
            "bin_start": 0.5,
            "bin_end": 0.6000000000000001,
            "count": 0
           },
           {
            "bin_start": 0.6000000000000001,
            "bin_end": 0.7000000000000001,
            "count": 0
           },
           {
            "bin_start": 0.7000000000000001,
            "bin_end": 0.8,
            "count": 0
           },
           {
            "bin_start": 0.8,
            "bin_end": 0.9,
            "count": 0
           },
           {
            "bin_start": 0.9,
            "bin_end": 1,
            "count": 3
           }
          ]
         }
        },
        {
         "name": "cp",
         "dtype": "int64",
         "stats": {
          "unique_count": 3,
          "nan_count": 0,
          "min": "0",
          "max": "3",
          "histogram": [
           {
            "bin_start": 0,
            "bin_end": 0.3,
            "count": 2
           },
           {
            "bin_start": 0.3,
            "bin_end": 0.6,
            "count": 0
           },
           {
            "bin_start": 0.6,
            "bin_end": 0.8999999999999999,
            "count": 0
           },
           {
            "bin_start": 0.8999999999999999,
            "bin_end": 1.2,
            "count": 0
           },
           {
            "bin_start": 1.2,
            "bin_end": 1.5,
            "count": 0
           },
           {
            "bin_start": 1.5,
            "bin_end": 1.7999999999999998,
            "count": 0
           },
           {
            "bin_start": 1.7999999999999998,
            "bin_end": 2.1,
            "count": 2
           },
           {
            "bin_start": 2.1,
            "bin_end": 2.4,
            "count": 0
           },
           {
            "bin_start": 2.4,
            "bin_end": 2.6999999999999997,
            "count": 0
           },
           {
            "bin_start": 2.6999999999999997,
            "bin_end": 3,
            "count": 1
           }
          ]
         }
        },
        {
         "name": "trtbps",
         "dtype": "int64",
         "stats": {
          "unique_count": 4,
          "nan_count": 0,
          "min": "110",
          "max": "170",
          "histogram": [
           {
            "bin_start": 110,
            "bin_end": 116,
            "count": 1
           },
           {
            "bin_start": 116,
            "bin_end": 122,
            "count": 0
           },
           {
            "bin_start": 122,
            "bin_end": 128,
            "count": 0
           },
           {
            "bin_start": 128,
            "bin_end": 134,
            "count": 0
           },
           {
            "bin_start": 134,
            "bin_end": 140,
            "count": 1
           },
           {
            "bin_start": 140,
            "bin_end": 146,
            "count": 0
           },
           {
            "bin_start": 146,
            "bin_end": 152,
            "count": 2
           },
           {
            "bin_start": 152,
            "bin_end": 158,
            "count": 0
           },
           {
            "bin_start": 158,
            "bin_end": 164,
            "count": 0
           },
           {
            "bin_start": 164,
            "bin_end": 170,
            "count": 1
           }
          ]
         }
        },
        {
         "name": "chol",
         "dtype": "int64",
         "stats": {
          "unique_count": 5,
          "nan_count": 0,
          "min": "126",
          "max": "409",
          "histogram": [
           {
            "bin_start": 126,
            "bin_end": 154.3,
            "count": 1
           },
           {
            "bin_start": 154.3,
            "bin_end": 182.6,
            "count": 0
           },
           {
            "bin_start": 182.6,
            "bin_end": 210.9,
            "count": 0
           },
           {
            "bin_start": 210.9,
            "bin_end": 239.2,
            "count": 0
           },
           {
            "bin_start": 239.2,
            "bin_end": 267.5,
            "count": 1
           },
           {
            "bin_start": 267.5,
            "bin_end": 295.8,
            "count": 2
           },
           {
            "bin_start": 295.8,
            "bin_end": 324.1,
            "count": 0
           },
           {
            "bin_start": 324.1,
            "bin_end": 352.4,
            "count": 0
           },
           {
            "bin_start": 352.4,
            "bin_end": 380.70000000000005,
            "count": 0
           },
           {
            "bin_start": 380.70000000000005,
            "bin_end": 409,
            "count": 1
           }
          ]
         }
        },
        {
         "name": "fbs",
         "dtype": "int64",
         "stats": {
          "unique_count": 2,
          "nan_count": 0,
          "min": "0",
          "max": "1",
          "histogram": [
           {
            "bin_start": 0,
            "bin_end": 0.1,
            "count": 3
           },
           {
            "bin_start": 0.1,
            "bin_end": 0.2,
            "count": 0
           },
           {
            "bin_start": 0.2,
            "bin_end": 0.30000000000000004,
            "count": 0
           },
           {
            "bin_start": 0.30000000000000004,
            "bin_end": 0.4,
            "count": 0
           },
           {
            "bin_start": 0.4,
            "bin_end": 0.5,
            "count": 0
           },
           {
            "bin_start": 0.5,
            "bin_end": 0.6000000000000001,
            "count": 0
           },
           {
            "bin_start": 0.6000000000000001,
            "bin_end": 0.7000000000000001,
            "count": 0
           },
           {
            "bin_start": 0.7000000000000001,
            "bin_end": 0.8,
            "count": 0
           },
           {
            "bin_start": 0.8,
            "bin_end": 0.9,
            "count": 0
           },
           {
            "bin_start": 0.9,
            "bin_end": 1,
            "count": 2
           }
          ]
         }
        },
        {
         "name": "restecg",
         "dtype": "int64",
         "stats": {
          "unique_count": 2,
          "nan_count": 0,
          "min": "0",
          "max": "1",
          "histogram": [
           {
            "bin_start": 0,
            "bin_end": 0.1,
            "count": 4
           },
           {
            "bin_start": 0.1,
            "bin_end": 0.2,
            "count": 0
           },
           {
            "bin_start": 0.2,
            "bin_end": 0.30000000000000004,
            "count": 0
           },
           {
            "bin_start": 0.30000000000000004,
            "bin_end": 0.4,
            "count": 0
           },
           {
            "bin_start": 0.4,
            "bin_end": 0.5,
            "count": 0
           },
           {
            "bin_start": 0.5,
            "bin_end": 0.6000000000000001,
            "count": 0
           },
           {
            "bin_start": 0.6000000000000001,
            "bin_end": 0.7000000000000001,
            "count": 0
           },
           {
            "bin_start": 0.7000000000000001,
            "bin_end": 0.8,
            "count": 0
           },
           {
            "bin_start": 0.8,
            "bin_end": 0.9,
            "count": 0
           },
           {
            "bin_start": 0.9,
            "bin_end": 1,
            "count": 1
           }
          ]
         }
        },
        {
         "name": "thalachh",
         "dtype": "int64",
         "stats": {
          "unique_count": 5,
          "nan_count": 0,
          "min": "112",
          "max": "173",
          "histogram": [
           {
            "bin_start": 112,
            "bin_end": 118.1,
            "count": 1
           },
           {
            "bin_start": 118.1,
            "bin_end": 124.2,
            "count": 0
           },
           {
            "bin_start": 124.2,
            "bin_end": 130.3,
            "count": 1
           },
           {
            "bin_start": 130.3,
            "bin_end": 136.4,
            "count": 0
           },
           {
            "bin_start": 136.4,
            "bin_end": 142.5,
            "count": 0
           },
           {
            "bin_start": 142.5,
            "bin_end": 148.6,
            "count": 0
           },
           {
            "bin_start": 148.6,
            "bin_end": 154.7,
            "count": 1
           },
           {
            "bin_start": 154.7,
            "bin_end": 160.8,
            "count": 1
           },
           {
            "bin_start": 160.8,
            "bin_end": 166.9,
            "count": 0
           },
           {
            "bin_start": 166.9,
            "bin_end": 173,
            "count": 1
           }
          ]
         }
        },
        {
         "name": "exng",
         "dtype": "int64",
         "stats": {
          "unique_count": 2,
          "nan_count": 0,
          "min": "0",
          "max": "1",
          "histogram": [
           {
            "bin_start": 0,
            "bin_end": 0.1,
            "count": 3
           },
           {
            "bin_start": 0.1,
            "bin_end": 0.2,
            "count": 0
           },
           {
            "bin_start": 0.2,
            "bin_end": 0.30000000000000004,
            "count": 0
           },
           {
            "bin_start": 0.30000000000000004,
            "bin_end": 0.4,
            "count": 0
           },
           {
            "bin_start": 0.4,
            "bin_end": 0.5,
            "count": 0
           },
           {
            "bin_start": 0.5,
            "bin_end": 0.6000000000000001,
            "count": 0
           },
           {
            "bin_start": 0.6000000000000001,
            "bin_end": 0.7000000000000001,
            "count": 0
           },
           {
            "bin_start": 0.7000000000000001,
            "bin_end": 0.8,
            "count": 0
           },
           {
            "bin_start": 0.8,
            "bin_end": 0.9,
            "count": 0
           },
           {
            "bin_start": 0.9,
            "bin_end": 1,
            "count": 2
           }
          ]
         }
        },
        {
         "name": "oldpeak",
         "dtype": "float64",
         "stats": {
          "unique_count": 4,
          "nan_count": 0,
          "min": "0.0",
          "max": "1.9",
          "histogram": [
           {
            "bin_start": 0,
            "bin_end": 0.19,
            "count": 1
           },
           {
            "bin_start": 0.19,
            "bin_end": 0.38,
            "count": 2
           },
           {
            "bin_start": 0.38,
            "bin_end": 0.5700000000000001,
            "count": 0
           },
           {
            "bin_start": 0.5700000000000001,
            "bin_end": 0.76,
            "count": 1
           },
           {
            "bin_start": 0.76,
            "bin_end": 0.95,
            "count": 0
           },
           {
            "bin_start": 0.95,
            "bin_end": 1.1400000000000001,
            "count": 0
           },
           {
            "bin_start": 1.1400000000000001,
            "bin_end": 1.33,
            "count": 0
           },
           {
            "bin_start": 1.33,
            "bin_end": 1.52,
            "count": 0
           },
           {
            "bin_start": 1.52,
            "bin_end": 1.71,
            "count": 0
           },
           {
            "bin_start": 1.71,
            "bin_end": 1.9,
            "count": 1
           }
          ]
         }
        },
        {
         "name": "slp",
         "dtype": "int64",
         "stats": {
          "unique_count": 2,
          "nan_count": 0,
          "min": "1",
          "max": "2",
          "histogram": [
           {
            "bin_start": 1,
            "bin_end": 1.1,
            "count": 3
           },
           {
            "bin_start": 1.1,
            "bin_end": 1.2,
            "count": 0
           },
           {
            "bin_start": 1.2,
            "bin_end": 1.3,
            "count": 0
           },
           {
            "bin_start": 1.3,
            "bin_end": 1.4,
            "count": 0
           },
           {
            "bin_start": 1.4,
            "bin_end": 1.5,
            "count": 0
           },
           {
            "bin_start": 1.5,
            "bin_end": 1.6,
            "count": 0
           },
           {
            "bin_start": 1.6,
            "bin_end": 1.7000000000000002,
            "count": 0
           },
           {
            "bin_start": 1.7000000000000002,
            "bin_end": 1.8,
            "count": 0
           },
           {
            "bin_start": 1.8,
            "bin_end": 1.9,
            "count": 0
           },
           {
            "bin_start": 1.9,
            "bin_end": 2,
            "count": 2
           }
          ]
         }
        },
        {
         "name": "caa",
         "dtype": "int64",
         "stats": {
          "unique_count": 3,
          "nan_count": 0,
          "min": "0",
          "max": "2",
          "histogram": [
           {
            "bin_start": 0,
            "bin_end": 0.2,
            "count": 1
           },
           {
            "bin_start": 0.2,
            "bin_end": 0.4,
            "count": 0
           },
           {
            "bin_start": 0.4,
            "bin_end": 0.6000000000000001,
            "count": 0
           },
           {
            "bin_start": 0.6000000000000001,
            "bin_end": 0.8,
            "count": 0
           },
           {
            "bin_start": 0.8,
            "bin_end": 1,
            "count": 0
           },
           {
            "bin_start": 1,
            "bin_end": 1.2000000000000002,
            "count": 3
           },
           {
            "bin_start": 1.2000000000000002,
            "bin_end": 1.4000000000000001,
            "count": 0
           },
           {
            "bin_start": 1.4000000000000001,
            "bin_end": 1.6,
            "count": 0
           },
           {
            "bin_start": 1.6,
            "bin_end": 1.8,
            "count": 0
           },
           {
            "bin_start": 1.8,
            "bin_end": 2,
            "count": 1
           }
          ]
         }
        },
        {
         "name": "thall",
         "dtype": "int64",
         "stats": {
          "unique_count": 3,
          "nan_count": 0,
          "min": "1",
          "max": "3",
          "histogram": [
           {
            "bin_start": 1,
            "bin_end": 1.2,
            "count": 1
           },
           {
            "bin_start": 1.2,
            "bin_end": 1.4,
            "count": 0
           },
           {
            "bin_start": 1.4,
            "bin_end": 1.6,
            "count": 0
           },
           {
            "bin_start": 1.6,
            "bin_end": 1.8,
            "count": 0
           },
           {
            "bin_start": 1.8,
            "bin_end": 2,
            "count": 0
           },
           {
            "bin_start": 2,
            "bin_end": 2.2,
            "count": 1
           },
           {
            "bin_start": 2.2,
            "bin_end": 2.4000000000000004,
            "count": 0
           },
           {
            "bin_start": 2.4000000000000004,
            "bin_end": 2.6,
            "count": 0
           },
           {
            "bin_start": 2.6,
            "bin_end": 2.8,
            "count": 0
           },
           {
            "bin_start": 2.8,
            "bin_end": 3,
            "count": 3
           }
          ]
         }
        },
        {
         "name": "output",
         "dtype": "int64",
         "stats": {
          "unique_count": 2,
          "nan_count": 0,
          "min": "0",
          "max": "1",
          "histogram": [
           {
            "bin_start": 0,
            "bin_end": 0.1,
            "count": 3
           },
           {
            "bin_start": 0.1,
            "bin_end": 0.2,
            "count": 0
           },
           {
            "bin_start": 0.2,
            "bin_end": 0.30000000000000004,
            "count": 0
           },
           {
            "bin_start": 0.30000000000000004,
            "bin_end": 0.4,
            "count": 0
           },
           {
            "bin_start": 0.4,
            "bin_end": 0.5,
            "count": 0
           },
           {
            "bin_start": 0.5,
            "bin_end": 0.6000000000000001,
            "count": 0
           },
           {
            "bin_start": 0.6000000000000001,
            "bin_end": 0.7000000000000001,
            "count": 0
           },
           {
            "bin_start": 0.7000000000000001,
            "bin_end": 0.8,
            "count": 0
           },
           {
            "bin_start": 0.8,
            "bin_end": 0.9,
            "count": 0
           },
           {
            "bin_start": 0.9,
            "bin_end": 1,
            "count": 2
           }
          ]
         }
        },
        {
         "name": "_deepnote_index_column",
         "dtype": "int64"
        }
       ],
       "rows_top": [
        {
         "age": 57,
         "sex": 1,
         "cp": 0,
         "trtbps": 150,
         "chol": 276,
         "fbs": 0,
         "restecg": 0,
         "thalachh": 112,
         "exng": 1,
         "oldpeak": 0.6,
         "slp": 1,
         "caa": 1,
         "thall": 1,
         "output": 0,
         "_deepnote_index_column": 0
        },
        {
         "age": 59,
         "sex": 1,
         "cp": 3,
         "trtbps": 170,
         "chol": 288,
         "fbs": 0,
         "restecg": 0,
         "thalachh": 159,
         "exng": 0,
         "oldpeak": 0.2,
         "slp": 1,
         "caa": 0,
         "thall": 3,
         "output": 0,
         "_deepnote_index_column": 1
        },
        {
         "age": 57,
         "sex": 1,
         "cp": 2,
         "trtbps": 150,
         "chol": 126,
         "fbs": 1,
         "restecg": 1,
         "thalachh": 173,
         "exng": 0,
         "oldpeak": 0.2,
         "slp": 2,
         "caa": 1,
         "thall": 3,
         "output": 1,
         "_deepnote_index_column": 2
        },
        {
         "age": 56,
         "sex": 0,
         "cp": 0,
         "trtbps": 134,
         "chol": 409,
         "fbs": 0,
         "restecg": 0,
         "thalachh": 150,
         "exng": 1,
         "oldpeak": 1.9,
         "slp": 1,
         "caa": 2,
         "thall": 3,
         "output": 0,
         "_deepnote_index_column": 3
        },
        {
         "age": 71,
         "sex": 0,
         "cp": 2,
         "trtbps": 110,
         "chol": 265,
         "fbs": 1,
         "restecg": 0,
         "thalachh": 130,
         "exng": 0,
         "oldpeak": 0,
         "slp": 2,
         "caa": 1,
         "thall": 2,
         "output": 1,
         "_deepnote_index_column": 4
        }
       ],
       "rows_bottom": null
      },
      "text/plain": "   age  sex  cp  trtbps  chol  fbs  restecg  thalachh  exng  oldpeak  slp  \\\n0   57    1   0     150   276    0        0       112     1      0.6    1   \n1   59    1   3     170   288    0        0       159     0      0.2    1   \n2   57    1   2     150   126    1        1       173     0      0.2    2   \n3   56    0   0     134   409    0        0       150     1      1.9    1   \n4   71    0   2     110   265    1        0       130     0      0.0    2   \n\n   caa  thall  output  \n0    1      1       0  \n1    0      3       0  \n2    1      3       1  \n3    2      3       0  \n4    1      2       1  ",
      "text/html": "<div>\n<style scoped>\n    .dataframe tbody tr th:only-of-type {\n        vertical-align: middle;\n    }\n\n    .dataframe tbody tr th {\n        vertical-align: top;\n    }\n\n    .dataframe thead th {\n        text-align: right;\n    }\n</style>\n<table border=\"1\" class=\"dataframe\">\n  <thead>\n    <tr style=\"text-align: right;\">\n      <th></th>\n      <th>age</th>\n      <th>sex</th>\n      <th>cp</th>\n      <th>trtbps</th>\n      <th>chol</th>\n      <th>fbs</th>\n      <th>restecg</th>\n      <th>thalachh</th>\n      <th>exng</th>\n      <th>oldpeak</th>\n      <th>slp</th>\n      <th>caa</th>\n      <th>thall</th>\n      <th>output</th>\n    </tr>\n  </thead>\n  <tbody>\n    <tr>\n      <th>0</th>\n      <td>57</td>\n      <td>1</td>\n      <td>0</td>\n      <td>150</td>\n      <td>276</td>\n      <td>0</td>\n      <td>0</td>\n      <td>112</td>\n      <td>1</td>\n      <td>0.6</td>\n      <td>1</td>\n      <td>1</td>\n      <td>1</td>\n      <td>0</td>\n    </tr>\n    <tr>\n      <th>1</th>\n      <td>59</td>\n      <td>1</td>\n      <td>3</td>\n      <td>170</td>\n      <td>288</td>\n      <td>0</td>\n      <td>0</td>\n      <td>159</td>\n      <td>0</td>\n      <td>0.2</td>\n      <td>1</td>\n      <td>0</td>\n      <td>3</td>\n      <td>0</td>\n    </tr>\n    <tr>\n      <th>2</th>\n      <td>57</td>\n      <td>1</td>\n      <td>2</td>\n      <td>150</td>\n      <td>126</td>\n      <td>1</td>\n      <td>1</td>\n      <td>173</td>\n      <td>0</td>\n      <td>0.2</td>\n      <td>2</td>\n      <td>1</td>\n      <td>3</td>\n      <td>1</td>\n    </tr>\n    <tr>\n      <th>3</th>\n      <td>56</td>\n      <td>0</td>\n      <td>0</td>\n      <td>134</td>\n      <td>409</td>\n      <td>0</td>\n      <td>0</td>\n      <td>150</td>\n      <td>1</td>\n      <td>1.9</td>\n      <td>1</td>\n      <td>2</td>\n      <td>3</td>\n      <td>0</td>\n    </tr>\n    <tr>\n      <th>4</th>\n      <td>71</td>\n      <td>0</td>\n      <td>2</td>\n      <td>110</td>\n      <td>265</td>\n      <td>1</td>\n      <td>0</td>\n      <td>130</td>\n      <td>0</td>\n      <td>0.0</td>\n      <td>2</td>\n      <td>1</td>\n      <td>2</td>\n      <td>1</td>\n    </tr>\n  </tbody>\n</table>\n</div>"
     },
     "metadata": {}
    }
   ],
   "execution_count": null
  },
  {
   "cell_type": "code",
   "metadata": {
    "tags": [],
    "cell_id": "00011-9dbbe43f-52e9-46c5-a3ca-adec82894f07",
    "deepnote_to_be_reexecuted": false,
    "source_hash": "3813fa5e",
    "execution_millis": 21,
    "execution_start": 1621458809899,
    "deepnote_cell_type": "code"
   },
   "source": "train_set.info()",
   "outputs": [
    {
     "name": "stdout",
     "text": "<class 'pandas.core.frame.DataFrame'>\nRangeIndex: 242 entries, 0 to 241\nData columns (total 14 columns):\n #   Column    Non-Null Count  Dtype  \n---  ------    --------------  -----  \n 0   age       242 non-null    int64  \n 1   sex       242 non-null    int64  \n 2   cp        242 non-null    int64  \n 3   trtbps    242 non-null    int64  \n 4   chol      242 non-null    int64  \n 5   fbs       242 non-null    int64  \n 6   restecg   242 non-null    int64  \n 7   thalachh  242 non-null    int64  \n 8   exng      242 non-null    int64  \n 9   oldpeak   242 non-null    float64\n 10  slp       242 non-null    int64  \n 11  caa       242 non-null    int64  \n 12  thall     242 non-null    int64  \n 13  output    242 non-null    int64  \ndtypes: float64(1), int64(13)\nmemory usage: 26.6 KB\n",
     "output_type": "stream"
    }
   ],
   "execution_count": null
  },
  {
   "cell_type": "markdown",
   "source": "There aren't any null values or columns in the dataset",
   "metadata": {
    "tags": [],
    "cell_id": "00025-effaa783-a0f3-4785-bd6f-1161af942929",
    "deepnote_cell_type": "markdown"
   }
  },
  {
   "cell_type": "code",
   "metadata": {
    "tags": [],
    "cell_id": "00021-4d38fbc9-9b64-4ac0-895e-0b838051d32d",
    "deepnote_to_be_reexecuted": false,
    "source_hash": "d6a73f3f",
    "execution_millis": 136,
    "execution_start": 1621458809913,
    "deepnote_cell_type": "code"
   },
   "source": "train_set.describe()",
   "outputs": [
    {
     "output_type": "execute_result",
     "execution_count": 20,
     "data": {
      "application/vnd.deepnote.dataframe.v2+json": {
       "row_count": 8,
       "column_count": 14,
       "columns": [
        {
         "name": "age",
         "dtype": "float64",
         "stats": {
          "unique_count": 8,
          "nan_count": 0,
          "min": "9.204492248287295",
          "max": "242.0",
          "histogram": [
           {
            "bin_start": 9.204492248287295,
            "bin_end": 32.48404302345857,
            "count": 2
           },
           {
            "bin_start": 32.48404302345857,
            "bin_end": 55.763593798629834,
            "count": 3
           },
           {
            "bin_start": 55.763593798629834,
            "bin_end": 79.0431445738011,
            "count": 2
           },
           {
            "bin_start": 79.0431445738011,
            "bin_end": 102.32269534897237,
            "count": 0
           },
           {
            "bin_start": 102.32269534897237,
            "bin_end": 125.60224612414365,
            "count": 0
           },
           {
            "bin_start": 125.60224612414365,
            "bin_end": 148.8817968993149,
            "count": 0
           },
           {
            "bin_start": 148.8817968993149,
            "bin_end": 172.1613476744862,
            "count": 0
           },
           {
            "bin_start": 172.1613476744862,
            "bin_end": 195.44089844965745,
            "count": 0
           },
           {
            "bin_start": 195.44089844965745,
            "bin_end": 218.7204492248287,
            "count": 0
           },
           {
            "bin_start": 218.7204492248287,
            "bin_end": 242,
            "count": 1
           }
          ]
         }
        },
        {
         "name": "sex",
         "dtype": "float64",
         "stats": {
          "unique_count": 5,
          "nan_count": 0,
          "min": "0.0",
          "max": "242.0",
          "histogram": [
           {
            "bin_start": 0,
            "bin_end": 24.2,
            "count": 7
           },
           {
            "bin_start": 24.2,
            "bin_end": 48.4,
            "count": 0
           },
           {
            "bin_start": 48.4,
            "bin_end": 72.6,
            "count": 0
           },
           {
            "bin_start": 72.6,
            "bin_end": 96.8,
            "count": 0
           },
           {
            "bin_start": 96.8,
            "bin_end": 121,
            "count": 0
           },
           {
            "bin_start": 121,
            "bin_end": 145.2,
            "count": 0
           },
           {
            "bin_start": 145.2,
            "bin_end": 169.4,
            "count": 0
           },
           {
            "bin_start": 169.4,
            "bin_end": 193.6,
            "count": 0
           },
           {
            "bin_start": 193.6,
            "bin_end": 217.79999999999998,
            "count": 0
           },
           {
            "bin_start": 217.79999999999998,
            "bin_end": 242,
            "count": 1
           }
          ]
         }
        },
        {
         "name": "cp",
         "dtype": "float64",
         "stats": {
          "unique_count": 7,
          "nan_count": 0,
          "min": "0.0",
          "max": "242.0",
          "histogram": [
           {
            "bin_start": 0,
            "bin_end": 24.2,
            "count": 7
           },
           {
            "bin_start": 24.2,
            "bin_end": 48.4,
            "count": 0
           },
           {
            "bin_start": 48.4,
            "bin_end": 72.6,
            "count": 0
           },
           {
            "bin_start": 72.6,
            "bin_end": 96.8,
            "count": 0
           },
           {
            "bin_start": 96.8,
            "bin_end": 121,
            "count": 0
           },
           {
            "bin_start": 121,
            "bin_end": 145.2,
            "count": 0
           },
           {
            "bin_start": 145.2,
            "bin_end": 169.4,
            "count": 0
           },
           {
            "bin_start": 169.4,
            "bin_end": 193.6,
            "count": 0
           },
           {
            "bin_start": 193.6,
            "bin_end": 217.79999999999998,
            "count": 0
           },
           {
            "bin_start": 217.79999999999998,
            "bin_end": 242,
            "count": 1
           }
          ]
         }
        },
        {
         "name": "trtbps",
         "dtype": "float64",
         "stats": {
          "unique_count": 8,
          "nan_count": 0,
          "min": "16.82885823407632",
          "max": "242.0",
          "histogram": [
           {
            "bin_start": 16.82885823407632,
            "bin_end": 39.345972410668686,
            "count": 1
           },
           {
            "bin_start": 39.345972410668686,
            "bin_end": 61.86308658726105,
            "count": 0
           },
           {
            "bin_start": 61.86308658726105,
            "bin_end": 84.38020076385341,
            "count": 0
           },
           {
            "bin_start": 84.38020076385341,
            "bin_end": 106.89731494044578,
            "count": 1
           },
           {
            "bin_start": 106.89731494044578,
            "bin_end": 129.41442911703814,
            "count": 1
           },
           {
            "bin_start": 129.41442911703814,
            "bin_end": 151.9315432936305,
            "count": 3
           },
           {
            "bin_start": 151.9315432936305,
            "bin_end": 174.44865747022288,
            "count": 0
           },
           {
            "bin_start": 174.44865747022288,
            "bin_end": 196.96577164681526,
            "count": 1
           },
           {
            "bin_start": 196.96577164681526,
            "bin_end": 219.48288582340763,
            "count": 0
           },
           {
            "bin_start": 219.48288582340763,
            "bin_end": 242,
            "count": 1
           }
          ]
         }
        },
        {
         "name": "chol",
         "dtype": "float64",
         "stats": {
          "unique_count": 8,
          "nan_count": 0,
          "min": "52.79546508006279",
          "max": "564.0",
          "histogram": [
           {
            "bin_start": 52.79546508006279,
            "bin_end": 103.91591857205651,
            "count": 1
           },
           {
            "bin_start": 103.91591857205651,
            "bin_end": 155.03637206405023,
            "count": 1
           },
           {
            "bin_start": 155.03637206405023,
            "bin_end": 206.15682555604397,
            "count": 0
           },
           {
            "bin_start": 206.15682555604397,
            "bin_end": 257.27727904803766,
            "count": 4
           },
           {
            "bin_start": 257.27727904803766,
            "bin_end": 308.39773254003137,
            "count": 1
           },
           {
            "bin_start": 308.39773254003137,
            "bin_end": 359.51818603202514,
            "count": 0
           },
           {
            "bin_start": 359.51818603202514,
            "bin_end": 410.63863952401886,
            "count": 0
           },
           {
            "bin_start": 410.63863952401886,
            "bin_end": 461.75909301601257,
            "count": 0
           },
           {
            "bin_start": 461.75909301601257,
            "bin_end": 512.8795465080062,
            "count": 0
           },
           {
            "bin_start": 512.8795465080062,
            "bin_end": 564,
            "count": 1
           }
          ]
         }
        },
        {
         "name": "fbs",
         "dtype": "float64",
         "stats": {
          "unique_count": 5,
          "nan_count": 0,
          "min": "0.0",
          "max": "242.0",
          "histogram": [
           {
            "bin_start": 0,
            "bin_end": 24.2,
            "count": 7
           },
           {
            "bin_start": 24.2,
            "bin_end": 48.4,
            "count": 0
           },
           {
            "bin_start": 48.4,
            "bin_end": 72.6,
            "count": 0
           },
           {
            "bin_start": 72.6,
            "bin_end": 96.8,
            "count": 0
           },
           {
            "bin_start": 96.8,
            "bin_end": 121,
            "count": 0
           },
           {
            "bin_start": 121,
            "bin_end": 145.2,
            "count": 0
           },
           {
            "bin_start": 145.2,
            "bin_end": 169.4,
            "count": 0
           },
           {
            "bin_start": 169.4,
            "bin_end": 193.6,
            "count": 0
           },
           {
            "bin_start": 193.6,
            "bin_end": 217.79999999999998,
            "count": 0
           },
           {
            "bin_start": 217.79999999999998,
            "bin_end": 242,
            "count": 1
           }
          ]
         }
        },
        {
         "name": "restecg",
         "dtype": "float64",
         "stats": {
          "unique_count": 6,
          "nan_count": 0,
          "min": "0.0",
          "max": "242.0",
          "histogram": [
           {
            "bin_start": 0,
            "bin_end": 24.2,
            "count": 7
           },
           {
            "bin_start": 24.2,
            "bin_end": 48.4,
            "count": 0
           },
           {
            "bin_start": 48.4,
            "bin_end": 72.6,
            "count": 0
           },
           {
            "bin_start": 72.6,
            "bin_end": 96.8,
            "count": 0
           },
           {
            "bin_start": 96.8,
            "bin_end": 121,
            "count": 0
           },
           {
            "bin_start": 121,
            "bin_end": 145.2,
            "count": 0
           },
           {
            "bin_start": 145.2,
            "bin_end": 169.4,
            "count": 0
           },
           {
            "bin_start": 169.4,
            "bin_end": 193.6,
            "count": 0
           },
           {
            "bin_start": 193.6,
            "bin_end": 217.79999999999998,
            "count": 0
           },
           {
            "bin_start": 217.79999999999998,
            "bin_end": 242,
            "count": 1
           }
          ]
         }
        },
        {
         "name": "thalachh",
         "dtype": "float64",
         "stats": {
          "unique_count": 8,
          "nan_count": 0,
          "min": "22.352398325800827",
          "max": "242.0",
          "histogram": [
           {
            "bin_start": 22.352398325800827,
            "bin_end": 44.317158493220745,
            "count": 1
           },
           {
            "bin_start": 44.317158493220745,
            "bin_end": 66.28191866064066,
            "count": 0
           },
           {
            "bin_start": 66.28191866064066,
            "bin_end": 88.2466788280606,
            "count": 1
           },
           {
            "bin_start": 88.2466788280606,
            "bin_end": 110.2114389954805,
            "count": 0
           },
           {
            "bin_start": 110.2114389954805,
            "bin_end": 132.17619916290042,
            "count": 0
           },
           {
            "bin_start": 132.17619916290042,
            "bin_end": 154.14095933032036,
            "count": 3
           },
           {
            "bin_start": 154.14095933032036,
            "bin_end": 176.10571949774027,
            "count": 1
           },
           {
            "bin_start": 176.10571949774027,
            "bin_end": 198.07047966516018,
            "count": 0
           },
           {
            "bin_start": 198.07047966516018,
            "bin_end": 220.0352398325801,
            "count": 1
           },
           {
            "bin_start": 220.0352398325801,
            "bin_end": 242,
            "count": 1
           }
          ]
         }
        },
        {
         "name": "exng",
         "dtype": "float64",
         "stats": {
          "unique_count": 5,
          "nan_count": 0,
          "min": "0.0",
          "max": "242.0",
          "histogram": [
           {
            "bin_start": 0,
            "bin_end": 24.2,
            "count": 7
           },
           {
            "bin_start": 24.2,
            "bin_end": 48.4,
            "count": 0
           },
           {
            "bin_start": 48.4,
            "bin_end": 72.6,
            "count": 0
           },
           {
            "bin_start": 72.6,
            "bin_end": 96.8,
            "count": 0
           },
           {
            "bin_start": 96.8,
            "bin_end": 121,
            "count": 0
           },
           {
            "bin_start": 121,
            "bin_end": 145.2,
            "count": 0
           },
           {
            "bin_start": 145.2,
            "bin_end": 169.4,
            "count": 0
           },
           {
            "bin_start": 169.4,
            "bin_end": 193.6,
            "count": 0
           },
           {
            "bin_start": 193.6,
            "bin_end": 217.79999999999998,
            "count": 0
           },
           {
            "bin_start": 217.79999999999998,
            "bin_end": 242,
            "count": 1
           }
          ]
         }
        },
        {
         "name": "oldpeak",
         "dtype": "float64",
         "stats": {
          "unique_count": 7,
          "nan_count": 0,
          "min": "0.0",
          "max": "242.0",
          "histogram": [
           {
            "bin_start": 0,
            "bin_end": 24.2,
            "count": 7
           },
           {
            "bin_start": 24.2,
            "bin_end": 48.4,
            "count": 0
           },
           {
            "bin_start": 48.4,
            "bin_end": 72.6,
            "count": 0
           },
           {
            "bin_start": 72.6,
            "bin_end": 96.8,
            "count": 0
           },
           {
            "bin_start": 96.8,
            "bin_end": 121,
            "count": 0
           },
           {
            "bin_start": 121,
            "bin_end": 145.2,
            "count": 0
           },
           {
            "bin_start": 145.2,
            "bin_end": 169.4,
            "count": 0
           },
           {
            "bin_start": 169.4,
            "bin_end": 193.6,
            "count": 0
           },
           {
            "bin_start": 193.6,
            "bin_end": 217.79999999999998,
            "count": 0
           },
           {
            "bin_start": 217.79999999999998,
            "bin_end": 242,
            "count": 1
           }
          ]
         }
        },
        {
         "name": "slp",
         "dtype": "float64",
         "stats": {
          "unique_count": 6,
          "nan_count": 0,
          "min": "0.0",
          "max": "242.0",
          "histogram": [
           {
            "bin_start": 0,
            "bin_end": 24.2,
            "count": 7
           },
           {
            "bin_start": 24.2,
            "bin_end": 48.4,
            "count": 0
           },
           {
            "bin_start": 48.4,
            "bin_end": 72.6,
            "count": 0
           },
           {
            "bin_start": 72.6,
            "bin_end": 96.8,
            "count": 0
           },
           {
            "bin_start": 96.8,
            "bin_end": 121,
            "count": 0
           },
           {
            "bin_start": 121,
            "bin_end": 145.2,
            "count": 0
           },
           {
            "bin_start": 145.2,
            "bin_end": 169.4,
            "count": 0
           },
           {
            "bin_start": 169.4,
            "bin_end": 193.6,
            "count": 0
           },
           {
            "bin_start": 193.6,
            "bin_end": 217.79999999999998,
            "count": 0
           },
           {
            "bin_start": 217.79999999999998,
            "bin_end": 242,
            "count": 1
           }
          ]
         }
        },
        {
         "name": "caa",
         "dtype": "float64",
         "stats": {
          "unique_count": 6,
          "nan_count": 0,
          "min": "0.0",
          "max": "242.0",
          "histogram": [
           {
            "bin_start": 0,
            "bin_end": 24.2,
            "count": 7
           },
           {
            "bin_start": 24.2,
            "bin_end": 48.4,
            "count": 0
           },
           {
            "bin_start": 48.4,
            "bin_end": 72.6,
            "count": 0
           },
           {
            "bin_start": 72.6,
            "bin_end": 96.8,
            "count": 0
           },
           {
            "bin_start": 96.8,
            "bin_end": 121,
            "count": 0
           },
           {
            "bin_start": 121,
            "bin_end": 145.2,
            "count": 0
           },
           {
            "bin_start": 145.2,
            "bin_end": 169.4,
            "count": 0
           },
           {
            "bin_start": 169.4,
            "bin_end": 193.6,
            "count": 0
           },
           {
            "bin_start": 193.6,
            "bin_end": 217.79999999999998,
            "count": 0
           },
           {
            "bin_start": 217.79999999999998,
            "bin_end": 242,
            "count": 1
           }
          ]
         }
        },
        {
         "name": "thall",
         "dtype": "float64",
         "stats": {
          "unique_count": 6,
          "nan_count": 0,
          "min": "0.0",
          "max": "242.0",
          "histogram": [
           {
            "bin_start": 0,
            "bin_end": 24.2,
            "count": 7
           },
           {
            "bin_start": 24.2,
            "bin_end": 48.4,
            "count": 0
           },
           {
            "bin_start": 48.4,
            "bin_end": 72.6,
            "count": 0
           },
           {
            "bin_start": 72.6,
            "bin_end": 96.8,
            "count": 0
           },
           {
            "bin_start": 96.8,
            "bin_end": 121,
            "count": 0
           },
           {
            "bin_start": 121,
            "bin_end": 145.2,
            "count": 0
           },
           {
            "bin_start": 145.2,
            "bin_end": 169.4,
            "count": 0
           },
           {
            "bin_start": 169.4,
            "bin_end": 193.6,
            "count": 0
           },
           {
            "bin_start": 193.6,
            "bin_end": 217.79999999999998,
            "count": 0
           },
           {
            "bin_start": 217.79999999999998,
            "bin_end": 242,
            "count": 1
           }
          ]
         }
        },
        {
         "name": "output",
         "dtype": "float64",
         "stats": {
          "unique_count": 5,
          "nan_count": 0,
          "min": "0.0",
          "max": "242.0",
          "histogram": [
           {
            "bin_start": 0,
            "bin_end": 24.2,
            "count": 7
           },
           {
            "bin_start": 24.2,
            "bin_end": 48.4,
            "count": 0
           },
           {
            "bin_start": 48.4,
            "bin_end": 72.6,
            "count": 0
           },
           {
            "bin_start": 72.6,
            "bin_end": 96.8,
            "count": 0
           },
           {
            "bin_start": 96.8,
            "bin_end": 121,
            "count": 0
           },
           {
            "bin_start": 121,
            "bin_end": 145.2,
            "count": 0
           },
           {
            "bin_start": 145.2,
            "bin_end": 169.4,
            "count": 0
           },
           {
            "bin_start": 169.4,
            "bin_end": 193.6,
            "count": 0
           },
           {
            "bin_start": 193.6,
            "bin_end": 217.79999999999998,
            "count": 0
           },
           {
            "bin_start": 217.79999999999998,
            "bin_end": 242,
            "count": 1
           }
          ]
         }
        },
        {
         "name": "_deepnote_index_column",
         "dtype": "object"
        }
       ],
       "rows_top": [
        {
         "age": 242,
         "sex": 242,
         "cp": 242,
         "trtbps": 242,
         "chol": 242,
         "fbs": 242,
         "restecg": 242,
         "thalachh": 242,
         "exng": 242,
         "oldpeak": 242,
         "slp": 242,
         "caa": 242,
         "thall": 242,
         "output": 242,
         "_deepnote_index_column": "count"
        },
        {
         "age": 54.46280991735537,
         "sex": 0.6570247933884298,
         "cp": 0.9917355371900827,
         "trtbps": 130.3595041322314,
         "chol": 246.84297520661158,
         "fbs": 0.128099173553719,
         "restecg": 0.5537190082644629,
         "thalachh": 150.11570247933884,
         "exng": 0.3140495867768595,
         "oldpeak": 1.0132231404958678,
         "slp": 1.421487603305785,
         "caa": 0.6818181818181818,
         "thall": 2.3016528925619837,
         "output": 0.5495867768595041,
         "_deepnote_index_column": "mean"
        },
        {
         "age": 9.204492248287295,
         "sex": 0.47568713283564107,
         "cp": 1.022533407167395,
         "trtbps": 16.82885823407632,
         "chol": 52.79546508006279,
         "fbs": 0.33489284605611264,
         "restecg": 0.5304098974427575,
         "thalachh": 22.352398325800827,
         "exng": 0.46509817553248467,
         "oldpeak": 1.1025765485613228,
         "slp": 0.607724360369019,
         "caa": 0.9906199073458375,
         "thall": 0.5938108827679676,
         "output": 0.49856623759376895,
         "_deepnote_index_column": "std"
        },
        {
         "age": 29,
         "sex": 0,
         "cp": 0,
         "trtbps": 94,
         "chol": 131,
         "fbs": 0,
         "restecg": 0,
         "thalachh": 88,
         "exng": 0,
         "oldpeak": 0,
         "slp": 0,
         "caa": 0,
         "thall": 0,
         "output": 0,
         "_deepnote_index_column": "min"
        },
        {
         "age": 48,
         "sex": 0,
         "cp": 0,
         "trtbps": 120,
         "chol": 212,
         "fbs": 0,
         "restecg": 0,
         "thalachh": 136,
         "exng": 0,
         "oldpeak": 0,
         "slp": 1,
         "caa": 0,
         "thall": 2,
         "output": 0,
         "_deepnote_index_column": "25%"
        },
        {
         "age": 55.5,
         "sex": 1,
         "cp": 1,
         "trtbps": 130,
         "chol": 239.5,
         "fbs": 0,
         "restecg": 1,
         "thalachh": 154,
         "exng": 0,
         "oldpeak": 0.8,
         "slp": 1,
         "caa": 0,
         "thall": 2,
         "output": 1,
         "_deepnote_index_column": "50%"
        },
        {
         "age": 61,
         "sex": 1,
         "cp": 2,
         "trtbps": 140,
         "chol": 274.75,
         "fbs": 0,
         "restecg": 1,
         "thalachh": 165.75,
         "exng": 1,
         "oldpeak": 1.6,
         "slp": 2,
         "caa": 1,
         "thall": 3,
         "output": 1,
         "_deepnote_index_column": "75%"
        },
        {
         "age": 77,
         "sex": 1,
         "cp": 3,
         "trtbps": 192,
         "chol": 564,
         "fbs": 1,
         "restecg": 2,
         "thalachh": 202,
         "exng": 1,
         "oldpeak": 5.6,
         "slp": 2,
         "caa": 4,
         "thall": 3,
         "output": 1,
         "_deepnote_index_column": "max"
        }
       ],
       "rows_bottom": null
      },
      "text/plain": "              age         sex          cp      trtbps        chol         fbs  \\\ncount  242.000000  242.000000  242.000000  242.000000  242.000000  242.000000   \nmean    54.462810    0.657025    0.991736  130.359504  246.842975    0.128099   \nstd      9.204492    0.475687    1.022533   16.828858   52.795465    0.334893   \nmin     29.000000    0.000000    0.000000   94.000000  131.000000    0.000000   \n25%     48.000000    0.000000    0.000000  120.000000  212.000000    0.000000   \n50%     55.500000    1.000000    1.000000  130.000000  239.500000    0.000000   \n75%     61.000000    1.000000    2.000000  140.000000  274.750000    0.000000   \nmax     77.000000    1.000000    3.000000  192.000000  564.000000    1.000000   \n\n          restecg    thalachh        exng     oldpeak         slp         caa  \\\ncount  242.000000  242.000000  242.000000  242.000000  242.000000  242.000000   \nmean     0.553719  150.115702    0.314050    1.013223    1.421488    0.681818   \nstd      0.530410   22.352398    0.465098    1.102577    0.607724    0.990620   \nmin      0.000000   88.000000    0.000000    0.000000    0.000000    0.000000   \n25%      0.000000  136.000000    0.000000    0.000000    1.000000    0.000000   \n50%      1.000000  154.000000    0.000000    0.800000    1.000000    0.000000   \n75%      1.000000  165.750000    1.000000    1.600000    2.000000    1.000000   \nmax      2.000000  202.000000    1.000000    5.600000    2.000000    4.000000   \n\n            thall      output  \ncount  242.000000  242.000000  \nmean     2.301653    0.549587  \nstd      0.593811    0.498566  \nmin      0.000000    0.000000  \n25%      2.000000    0.000000  \n50%      2.000000    1.000000  \n75%      3.000000    1.000000  \nmax      3.000000    1.000000  ",
      "text/html": "<div>\n<style scoped>\n    .dataframe tbody tr th:only-of-type {\n        vertical-align: middle;\n    }\n\n    .dataframe tbody tr th {\n        vertical-align: top;\n    }\n\n    .dataframe thead th {\n        text-align: right;\n    }\n</style>\n<table border=\"1\" class=\"dataframe\">\n  <thead>\n    <tr style=\"text-align: right;\">\n      <th></th>\n      <th>age</th>\n      <th>sex</th>\n      <th>cp</th>\n      <th>trtbps</th>\n      <th>chol</th>\n      <th>fbs</th>\n      <th>restecg</th>\n      <th>thalachh</th>\n      <th>exng</th>\n      <th>oldpeak</th>\n      <th>slp</th>\n      <th>caa</th>\n      <th>thall</th>\n      <th>output</th>\n    </tr>\n  </thead>\n  <tbody>\n    <tr>\n      <th>count</th>\n      <td>242.000000</td>\n      <td>242.000000</td>\n      <td>242.000000</td>\n      <td>242.000000</td>\n      <td>242.000000</td>\n      <td>242.000000</td>\n      <td>242.000000</td>\n      <td>242.000000</td>\n      <td>242.000000</td>\n      <td>242.000000</td>\n      <td>242.000000</td>\n      <td>242.000000</td>\n      <td>242.000000</td>\n      <td>242.000000</td>\n    </tr>\n    <tr>\n      <th>mean</th>\n      <td>54.462810</td>\n      <td>0.657025</td>\n      <td>0.991736</td>\n      <td>130.359504</td>\n      <td>246.842975</td>\n      <td>0.128099</td>\n      <td>0.553719</td>\n      <td>150.115702</td>\n      <td>0.314050</td>\n      <td>1.013223</td>\n      <td>1.421488</td>\n      <td>0.681818</td>\n      <td>2.301653</td>\n      <td>0.549587</td>\n    </tr>\n    <tr>\n      <th>std</th>\n      <td>9.204492</td>\n      <td>0.475687</td>\n      <td>1.022533</td>\n      <td>16.828858</td>\n      <td>52.795465</td>\n      <td>0.334893</td>\n      <td>0.530410</td>\n      <td>22.352398</td>\n      <td>0.465098</td>\n      <td>1.102577</td>\n      <td>0.607724</td>\n      <td>0.990620</td>\n      <td>0.593811</td>\n      <td>0.498566</td>\n    </tr>\n    <tr>\n      <th>min</th>\n      <td>29.000000</td>\n      <td>0.000000</td>\n      <td>0.000000</td>\n      <td>94.000000</td>\n      <td>131.000000</td>\n      <td>0.000000</td>\n      <td>0.000000</td>\n      <td>88.000000</td>\n      <td>0.000000</td>\n      <td>0.000000</td>\n      <td>0.000000</td>\n      <td>0.000000</td>\n      <td>0.000000</td>\n      <td>0.000000</td>\n    </tr>\n    <tr>\n      <th>25%</th>\n      <td>48.000000</td>\n      <td>0.000000</td>\n      <td>0.000000</td>\n      <td>120.000000</td>\n      <td>212.000000</td>\n      <td>0.000000</td>\n      <td>0.000000</td>\n      <td>136.000000</td>\n      <td>0.000000</td>\n      <td>0.000000</td>\n      <td>1.000000</td>\n      <td>0.000000</td>\n      <td>2.000000</td>\n      <td>0.000000</td>\n    </tr>\n    <tr>\n      <th>50%</th>\n      <td>55.500000</td>\n      <td>1.000000</td>\n      <td>1.000000</td>\n      <td>130.000000</td>\n      <td>239.500000</td>\n      <td>0.000000</td>\n      <td>1.000000</td>\n      <td>154.000000</td>\n      <td>0.000000</td>\n      <td>0.800000</td>\n      <td>1.000000</td>\n      <td>0.000000</td>\n      <td>2.000000</td>\n      <td>1.000000</td>\n    </tr>\n    <tr>\n      <th>75%</th>\n      <td>61.000000</td>\n      <td>1.000000</td>\n      <td>2.000000</td>\n      <td>140.000000</td>\n      <td>274.750000</td>\n      <td>0.000000</td>\n      <td>1.000000</td>\n      <td>165.750000</td>\n      <td>1.000000</td>\n      <td>1.600000</td>\n      <td>2.000000</td>\n      <td>1.000000</td>\n      <td>3.000000</td>\n      <td>1.000000</td>\n    </tr>\n    <tr>\n      <th>max</th>\n      <td>77.000000</td>\n      <td>1.000000</td>\n      <td>3.000000</td>\n      <td>192.000000</td>\n      <td>564.000000</td>\n      <td>1.000000</td>\n      <td>2.000000</td>\n      <td>202.000000</td>\n      <td>1.000000</td>\n      <td>5.600000</td>\n      <td>2.000000</td>\n      <td>4.000000</td>\n      <td>3.000000</td>\n      <td>1.000000</td>\n    </tr>\n  </tbody>\n</table>\n</div>"
     },
     "metadata": {}
    }
   ],
   "execution_count": null
  },
  {
   "cell_type": "markdown",
   "source": "There output reprsents whether the person had a heart-attack (output=1) or not (output=0)",
   "metadata": {
    "tags": [],
    "cell_id": "00027-258dd8f4-ecb9-4b53-be3f-c5a32f8372a8",
    "deepnote_cell_type": "text-cell-p"
   }
  },
  {
   "cell_type": "code",
   "metadata": {
    "tags": [],
    "cell_id": "00023-f441b936-ba1a-45c5-9f9f-82e033acab37",
    "deepnote_to_be_reexecuted": false,
    "source_hash": "8f2509a0",
    "execution_start": 1621458810014,
    "execution_millis": 3,
    "deepnote_cell_type": "code"
   },
   "source": "heart_attack=train_set.loc[train_set.output==1]\nn_heart_attack=train_set.loc[train_set.output==0]",
   "outputs": [],
   "execution_count": null
  },
  {
   "cell_type": "code",
   "metadata": {
    "tags": [],
    "cell_id": "00026-be7daf1b-0b87-4f33-8a20-8b6bca202187",
    "deepnote_to_be_reexecuted": false,
    "source_hash": "25b26137",
    "execution_start": 1621458810065,
    "execution_millis": 6,
    "deepnote_cell_type": "code"
   },
   "source": "len(heart_attack), len(n_heart_attack)",
   "outputs": [
    {
     "output_type": "execute_result",
     "execution_count": 22,
     "data": {
      "text/plain": "(133, 109)"
     },
     "metadata": {}
    }
   ],
   "execution_count": null
  },
  {
   "cell_type": "markdown",
   "source": "## Data analysis",
   "metadata": {
    "tags": [],
    "cell_id": "00030-3c63a12e-002c-4b08-830c-6df00bf90788",
    "deepnote_cell_type": "text-cell-h2"
   }
  },
  {
   "cell_type": "markdown",
   "source": "### Sex variable",
   "metadata": {
    "tags": [],
    "cell_id": "00031-562d31a0-c264-4952-a5f2-febec2b3266b",
    "deepnote_cell_type": "text-cell-h3"
   }
  },
  {
   "cell_type": "code",
   "metadata": {
    "tags": [],
    "cell_id": "00022-39ca1a57-e9e0-4ec0-802e-b9898eb49183",
    "deepnote_to_be_reexecuted": false,
    "source_hash": "8c091232",
    "execution_millis": 5,
    "execution_start": 1621458810066,
    "deepnote_cell_type": "code"
   },
   "source": "heart_attack.sex.value_counts(normalize=True)",
   "outputs": [
    {
     "output_type": "execute_result",
     "execution_count": 23,
     "data": {
      "text/plain": "1    0.526316\n0    0.473684\nName: sex, dtype: float64"
     },
     "metadata": {}
    }
   ],
   "execution_count": null
  },
  {
   "cell_type": "code",
   "metadata": {
    "tags": [],
    "cell_id": "00023-37c01138-b1a2-4dd7-b6fc-30d89ce5f38c",
    "deepnote_to_be_reexecuted": false,
    "source_hash": "6b019065",
    "execution_millis": 2868,
    "execution_start": 1621458810067,
    "deepnote_cell_type": "code"
   },
   "source": "heart_attack.hist(figsize=(30,20))",
   "outputs": [
    {
     "output_type": "execute_result",
     "execution_count": 24,
     "data": {
      "text/plain": "array([[<AxesSubplot:title={'center':'age'}>,\n        <AxesSubplot:title={'center':'sex'}>,\n        <AxesSubplot:title={'center':'cp'}>,\n        <AxesSubplot:title={'center':'trtbps'}>],\n       [<AxesSubplot:title={'center':'chol'}>,\n        <AxesSubplot:title={'center':'fbs'}>,\n        <AxesSubplot:title={'center':'restecg'}>,\n        <AxesSubplot:title={'center':'thalachh'}>],\n       [<AxesSubplot:title={'center':'exng'}>,\n        <AxesSubplot:title={'center':'oldpeak'}>,\n        <AxesSubplot:title={'center':'slp'}>,\n        <AxesSubplot:title={'center':'caa'}>],\n       [<AxesSubplot:title={'center':'thall'}>,\n        <AxesSubplot:title={'center':'output'}>, <AxesSubplot:>,\n        <AxesSubplot:>]], dtype=object)"
     },
     "metadata": {}
    },
    {
     "data": {
      "text/plain": "<Figure size 2160x1440 with 16 Axes>",
      "image/png": "[encoded data removed]"
     },
     "metadata": {
      "needs_background": "light",
      "image/png": {
       "width": 1714,
       "height": 1134
      }
     },
     "output_type": "display_data"
    }
   ],
   "execution_count": null
  },
  {
   "cell_type": "code",
   "metadata": {
    "tags": [],
    "cell_id": "00024-70e714b3-2b24-43b1-8f76-2c8955f72aa1",
    "deepnote_to_be_reexecuted": false,
    "source_hash": "a251e00",
    "execution_millis": 5,
    "execution_start": 1621458812937,
    "deepnote_cell_type": "code"
   },
   "source": "heart_data.columns",
   "outputs": [
    {
     "output_type": "execute_result",
     "execution_count": 25,
     "data": {
      "text/plain": "Index(['age', 'sex', 'cp', 'trtbps', 'chol', 'fbs', 'restecg', 'thalachh',\n       'exng', 'oldpeak', 'slp', 'caa', 'thall', 'output'],\n      dtype='object')"
     },
     "metadata": {}
    }
   ],
   "execution_count": null
  },
  {
   "cell_type": "markdown",
   "source": "### Age variable",
   "metadata": {
    "tags": [],
    "cell_id": "00035-158487d7-91bb-4e16-a43f-d5b8dc139213",
    "deepnote_cell_type": "text-cell-h3"
   }
  },
  {
   "cell_type": "code",
   "metadata": {
    "tags": [],
    "cell_id": "00026-3bb824e5-28e4-4e25-a75d-70701f368e03",
    "deepnote_to_be_reexecuted": false,
    "source_hash": "69d0a7f5",
    "execution_millis": 251,
    "execution_start": 1621458813001,
    "deepnote_cell_type": "code"
   },
   "source": "heart_attack.age.hist(figsize=(16,9), bins=30)",
   "outputs": [
    {
     "output_type": "execute_result",
     "execution_count": 26,
     "data": {
      "text/plain": "<AxesSubplot:>"
     },
     "metadata": {}
    },
    {
     "data": {
      "text/plain": "<Figure size 1152x648 with 1 Axes>",
      "image/png": "[encoded data removed]"
     },
     "metadata": {
      "needs_background": "light",
      "image/png": {
       "width": 926,
       "height": 520
      }
     },
     "output_type": "display_data"
    }
   ],
   "execution_count": null
  },
  {
   "cell_type": "code",
   "metadata": {
    "tags": [],
    "cell_id": "00027-7a7162f4-bf71-4c63-8e76-2fe3c1b62c7b",
    "deepnote_to_be_reexecuted": false,
    "source_hash": "3a9832ef",
    "execution_millis": 2,
    "execution_start": 1621458813258,
    "deepnote_cell_type": "code"
   },
   "source": "def age_category_values(df):\n    m1=round(df.max()/5)*5\n    m2=round(df.min()/5)*5\n    L=[i for i in range(m2,m1,5)]\n    dicts={}\n    M=[]\n    for a in range(len(L)):\n        dicts[L[a]]=0\n    for j in df:\n        for k in L:\n            if j<k:\n                dicts[k]+=1\n                break\n    for b in dicts:\n        M.append(([b-5,b],dicts[b]))\n    return M",
   "outputs": [],
   "execution_count": null
  },
  {
   "cell_type": "code",
   "metadata": {
    "tags": [],
    "cell_id": "00028-d06bf282-e5ab-4d80-bb0a-415909cd0c7e",
    "deepnote_to_be_reexecuted": false,
    "source_hash": "1295bb6c",
    "execution_millis": 14,
    "execution_start": 1621458813268,
    "deepnote_cell_type": "code"
   },
   "source": "age_category_values(heart_attack.age)",
   "outputs": [
    {
     "output_type": "execute_result",
     "execution_count": 28,
     "data": {
      "text/plain": "[([25, 30], 1),\n ([30, 35], 1),\n ([35, 40], 9),\n ([40, 45], 24),\n ([45, 50], 15),\n ([50, 55], 30),\n ([55, 60], 22),\n ([60, 65], 13),\n ([65, 70], 14)]"
     },
     "metadata": {}
    }
   ],
   "execution_count": null
  },
  {
   "cell_type": "code",
   "metadata": {
    "tags": [],
    "cell_id": "00028-9ad25fc1-fdda-41ed-98d6-e9d7ac8fcd69",
    "deepnote_to_be_reexecuted": false,
    "source_hash": "f9e561ee",
    "execution_millis": 11,
    "execution_start": 1621458813279,
    "deepnote_cell_type": "code"
   },
   "source": "s=0\nfor i in heart_attack.age:\n    if 40<= i:\n        s+=1\nm=len(heart_attack)\nprint(100*s/m)",
   "outputs": [
    {
     "name": "stdout",
     "text": "91.72932330827068\n",
     "output_type": "stream"
    }
   ],
   "execution_count": null
  },
  {
   "cell_type": "markdown",
   "source": "Most of people approximatly 91.71% who have a heart attack are over the age of 40",
   "metadata": {
    "tags": [],
    "cell_id": "00030-acb80556-5d26-4bed-9116-bf46be86065f",
    "deepnote_cell_type": "markdown"
   }
  },
  {
   "cell_type": "markdown",
   "source": "### CP variable",
   "metadata": {
    "tags": [],
    "cell_id": "00041-c0f304c7-9a5f-4f75-a2ee-4afd0714fcae",
    "deepnote_cell_type": "text-cell-h3"
   }
  },
  {
   "cell_type": "markdown",
   "source": "The cp column represents the chest pain type",
   "metadata": {
    "tags": [],
    "cell_id": "00032-e785183c-aed0-4036-8ccd-bca84c7b91e3",
    "deepnote_cell_type": "text-cell-p"
   }
  },
  {
   "cell_type": "markdown",
   "source": "Value 1: typical angina which is defined as substernal&nbsp;chest pain&nbsp;precipitated by physical exertion or emotional stress and relieved with rest or nitroglycerin",
   "metadata": {
    "tags": [],
    "cell_id": "00033-0a029cd8-3f70-4afa-9dd8-ea3b98fac218",
    "deepnote_cell_type": "text-cell-p"
   }
  },
  {
   "cell_type": "markdown",
   "source": "Value 2: atypical angina (Unlike&nbsp;typical chest pain, which is usually a dull&nbsp;pain&nbsp;or pressure sensation,&nbsp;atypical chest pain&nbsp;may be sharp, stabbing, or tearing.&nbsp;Atypical chest pain&nbsp;may get worse when breathing in, may get better with leaning forward, and may be worse when you push on the&nbsp;chest)",
   "metadata": {
    "tags": [],
    "cell_id": "00034-127d9461-fe4f-4290-ac37-54953a2e544e",
    "deepnote_cell_type": "text-cell-p"
   }
  },
  {
   "cell_type": "markdown",
   "source": "Value 3: non-anginal pain",
   "metadata": {
    "tags": [],
    "cell_id": "00035-00c6cbc9-ef49-4cd1-8fab-98b8e2ed9fb4",
    "deepnote_cell_type": "text-cell-p"
   }
  },
  {
   "cell_type": "markdown",
   "source": "Value 4: asymptomatic",
   "metadata": {
    "tags": [],
    "cell_id": "00036-d967284e-5e0c-4abf-afa1-b198d183d2a8",
    "deepnote_cell_type": "text-cell-p"
   }
  },
  {
   "cell_type": "code",
   "metadata": {
    "tags": [],
    "cell_id": "00032-ffe360eb-b961-4e0f-b7c3-3344a612695c",
    "deepnote_to_be_reexecuted": false,
    "source_hash": "c8b13cd3",
    "execution_millis": 0,
    "execution_start": 1621458813342,
    "deepnote_cell_type": "code"
   },
   "source": "heart_attack.cp.value_counts()",
   "outputs": [
    {
     "output_type": "execute_result",
     "execution_count": 30,
     "data": {
      "text/plain": "2    57\n0    32\n1    32\n3    12\nName: cp, dtype: int64"
     },
     "metadata": {}
    }
   ],
   "execution_count": null
  },
  {
   "cell_type": "code",
   "metadata": {
    "tags": [],
    "cell_id": "00033-80e73ef7-641a-49c7-8823-5a8b9feaf21b",
    "deepnote_to_be_reexecuted": false,
    "source_hash": "ebc9b18a",
    "execution_millis": 211,
    "execution_start": 1621458813344,
    "deepnote_cell_type": "code"
   },
   "source": "heart_attack.cp.hist()",
   "outputs": [
    {
     "output_type": "execute_result",
     "execution_count": 31,
     "data": {
      "text/plain": "<AxesSubplot:>"
     },
     "metadata": {}
    },
    {
     "data": {
      "text/plain": "<Figure size 432x288 with 1 Axes>",
      "image/png": "[encoded data removed]"
     },
     "metadata": {
      "needs_background": "light",
      "image/png": {
       "width": 368,
       "height": 248
      }
     },
     "output_type": "display_data"
    }
   ],
   "execution_count": null
  },
  {
   "cell_type": "code",
   "metadata": {
    "tags": [],
    "cell_id": "00042-f4db74a9-652e-40a9-ba25-71593f3074e4",
    "deepnote_to_be_reexecuted": false,
    "source_hash": "dc5c9472",
    "execution_start": 1621458813535,
    "execution_millis": 20,
    "deepnote_cell_type": "code"
   },
   "source": "heart_attack.cp.value_counts(normalize=True)",
   "outputs": [
    {
     "output_type": "execute_result",
     "execution_count": 32,
     "data": {
      "text/plain": "2    0.428571\n0    0.240602\n1    0.240602\n3    0.090226\nName: cp, dtype: float64"
     },
     "metadata": {}
    }
   ],
   "execution_count": null
  },
  {
   "cell_type": "markdown",
   "source": "Almost half the people with a heart attack have no anginal pain and the other have a certain type of anginal pain, thus we can safely conclude that anginal pain isn't a good criteria for heart attacks",
   "metadata": {
    "tags": [],
    "cell_id": "00039-fd81e178-9758-473b-9dfe-e3c949b99ff3",
    "deepnote_cell_type": "markdown"
   }
  },
  {
   "cell_type": "markdown",
   "source": "### Trtbps variable",
   "metadata": {
    "tags": [],
    "cell_id": "00051-e06a75eb-d4e1-4d2b-b744-12c5cb8cae4e",
    "deepnote_cell_type": "text-cell-h3"
   }
  },
  {
   "cell_type": "markdown",
   "source": "trtbps : resting blood pressure (in mm Hg)",
   "metadata": {
    "tags": [],
    "cell_id": "00039-13c645d0-32d7-41d3-8002-15466ce3ae81",
    "deepnote_cell_type": "markdown"
   }
  },
  {
   "cell_type": "code",
   "metadata": {
    "tags": [],
    "cell_id": "00034-5eb8bcf1-6b26-40e1-9a95-7909b810093f",
    "deepnote_to_be_reexecuted": false,
    "source_hash": "d75e9a0",
    "execution_millis": 260,
    "execution_start": 1621458813535,
    "deepnote_cell_type": "code"
   },
   "source": "heart_attack.trtbps.hist(figsize=(20,8))",
   "outputs": [
    {
     "output_type": "execute_result",
     "execution_count": 33,
     "data": {
      "text/plain": "<AxesSubplot:>"
     },
     "metadata": {}
    },
    {
     "data": {
      "text/plain": "<Figure size 1440x576 with 1 Axes>",
      "image/png": "[encoded data removed]"
     },
     "metadata": {
      "needs_background": "light",
      "image/png": {
       "width": 1150,
       "height": 466
      }
     },
     "output_type": "display_data"
    }
   ],
   "execution_count": null
  },
  {
   "cell_type": "code",
   "metadata": {
    "tags": [],
    "cell_id": "00040-f131786f-f32d-4509-8224-c7acc0be4f91",
    "deepnote_to_be_reexecuted": false,
    "source_hash": "bbfd83f6",
    "execution_millis": 8,
    "execution_start": 1621458813797,
    "deepnote_cell_type": "code"
   },
   "source": "def category_values(df, step):\n    m1=round(df.max()/step)*step\n    m2=round(df.min()/step)*step\n    L=[i for i in range(m2,m1+(2*step),step)]\n    dicts={}\n    M=[]\n    for a in range(len(L)):\n        dicts[L[a]]=0\n    for j in df:\n        for k in L:\n            if j<k:\n                dicts[k]+=1\n                break\n    for b in dicts:\n        M.append(([b-step,b],dicts[b]))\n    return M",
   "outputs": [],
   "execution_count": null
  },
  {
   "cell_type": "code",
   "metadata": {
    "tags": [],
    "cell_id": "00041-e454dec6-0829-4253-8f59-e5ab1b17d91e",
    "deepnote_to_be_reexecuted": false,
    "source_hash": "1fad4906",
    "execution_millis": 4,
    "execution_start": 1621458813854,
    "deepnote_cell_type": "code"
   },
   "source": "category_values(heart_attack.trtbps,10)",
   "outputs": [
    {
     "output_type": "execute_result",
     "execution_count": 35,
     "data": {
      "text/plain": "[([80, 90], 0),\n ([90, 100], 2),\n ([100, 110], 11),\n ([110, 120], 16),\n ([120, 130], 31),\n ([130, 140], 40),\n ([140, 150], 17),\n ([150, 160], 10),\n ([160, 170], 4),\n ([170, 180], 1),\n ([180, 190], 1)]"
     },
     "metadata": {}
    }
   ],
   "execution_count": null
  },
  {
   "cell_type": "code",
   "metadata": {
    "tags": [],
    "cell_id": "00042-72525ea5-1fa9-4a4e-8307-e443b90f200a",
    "deepnote_to_be_reexecuted": false,
    "source_hash": "903e57ce",
    "execution_millis": 194,
    "execution_start": 1621458813898,
    "deepnote_cell_type": "code"
   },
   "source": "sns.histplot(data=heart_attack,x=\"trtbps\", bins=(80,100,110,120,130,140,150,160,190))",
   "outputs": [
    {
     "output_type": "execute_result",
     "execution_count": 36,
     "data": {
      "text/plain": "<AxesSubplot:xlabel='trtbps', ylabel='Count'>"
     },
     "metadata": {}
    },
    {
     "data": {
      "text/plain": "<Figure size 432x288 with 1 Axes>",
      "image/png": "[encoded data removed]"
     },
     "metadata": {
      "needs_background": "light",
      "image/png": {
       "width": 382,
       "height": 262
      }
     },
     "output_type": "display_data"
    }
   ],
   "execution_count": null
  },
  {
   "cell_type": "code",
   "metadata": {
    "tags": [],
    "cell_id": "00043-dbdd67dc-f62e-457c-981a-1742ed485b61",
    "deepnote_to_be_reexecuted": false,
    "source_hash": "80b37411",
    "execution_millis": 5,
    "execution_start": 1621458814091,
    "deepnote_cell_type": "code"
   },
   "source": "a=0\nfor i in heart_attack.trtbps:\n    if 110 <= i <=150:\n        a+=1\nprint(100*(a/m))",
   "outputs": [
    {
     "name": "stdout",
     "text": "82.70676691729322\n",
     "output_type": "stream"
    }
   ],
   "execution_count": null
  },
  {
   "cell_type": "markdown",
   "source": "Since the most of the values of the trtbps index range from 110 to 150(around 82.70%) it is safe to assume that most of heart attacks are associated with a blood pressure between 110 and 150",
   "metadata": {
    "tags": [],
    "cell_id": "00044-ea78e04b-b42f-4d04-ac82-228ca9015b8f",
    "deepnote_cell_type": "text-cell-p"
   }
  },
  {
   "cell_type": "markdown",
   "source": "### chol variable",
   "metadata": {
    "tags": [],
    "cell_id": "00059-3ccf7193-9c34-4f24-9e05-f631057a01fb",
    "deepnote_cell_type": "text-cell-h3"
   }
  },
  {
   "cell_type": "markdown",
   "source": "chol : cholestoral in mg/dl fetched via BMI sensor",
   "metadata": {
    "tags": [],
    "cell_id": "00047-db9a031f-f7b3-4398-b98f-c526aed92317",
    "deepnote_cell_type": "markdown"
   }
  },
  {
   "cell_type": "code",
   "metadata": {
    "tags": [],
    "cell_id": "00035-1ea242d7-bb7f-403a-85a6-f253aefaf439",
    "deepnote_to_be_reexecuted": false,
    "source_hash": "24c140c3",
    "execution_millis": 237,
    "execution_start": 1621458814091,
    "deepnote_cell_type": "code"
   },
   "source": "heart_attack.chol.hist(figsize=(16,8), bins=30)",
   "outputs": [
    {
     "output_type": "execute_result",
     "execution_count": 38,
     "data": {
      "text/plain": "<AxesSubplot:>"
     },
     "metadata": {}
    },
    {
     "data": {
      "text/plain": "<Figure size 1152x576 with 1 Axes>",
      "image/png": "[encoded data removed]"
     },
     "metadata": {
      "needs_background": "light",
      "image/png": {
       "width": 936,
       "height": 466
      }
     },
     "output_type": "display_data"
    }
   ],
   "execution_count": null
  },
  {
   "cell_type": "code",
   "metadata": {
    "tags": [],
    "cell_id": "00036-18308ba6-f549-4343-9fa6-f0e06e626e78",
    "deepnote_to_be_reexecuted": false,
    "source_hash": "12e0669d",
    "execution_millis": 22,
    "execution_start": 1621458814330,
    "deepnote_cell_type": "code"
   },
   "source": "category_values(heart_attack.chol,20)",
   "outputs": [
    {
     "output_type": "execute_result",
     "execution_count": 39,
     "data": {
      "text/plain": "[([120, 140], 0),\n ([140, 160], 3),\n ([160, 180], 7),\n ([180, 200], 15),\n ([200, 220], 21),\n ([220, 240], 26),\n ([240, 260], 20),\n ([260, 280], 15),\n ([280, 300], 6),\n ([300, 320], 11),\n ([320, 340], 2),\n ([340, 360], 3),\n ([360, 380], 1),\n ([380, 400], 1),\n ([400, 420], 1),\n ([420, 440], 0),\n ([440, 460], 0),\n ([460, 480], 0),\n ([480, 500], 0),\n ([500, 520], 0),\n ([520, 540], 0),\n ([540, 560], 0),\n ([560, 580], 1)]"
     },
     "metadata": {}
    }
   ],
   "execution_count": null
  },
  {
   "cell_type": "code",
   "metadata": {
    "tags": [],
    "cell_id": "00050-51e4fcac-b27a-417d-8aa6-0deb7971ab5d",
    "deepnote_to_be_reexecuted": false,
    "source_hash": "882f5e44",
    "execution_millis": 19,
    "execution_start": 1621458814337,
    "deepnote_cell_type": "code"
   },
   "source": "a=0\nfor i,j in category_values(heart_attack.chol,20):\n    if i[0]>=180 and i[1]<=320:\n        a+=j\nprint((a/len(heart_attack.chol))*100,\"%\")",
   "outputs": [
    {
     "name": "stdout",
     "text": "85.71428571428571 %\n",
     "output_type": "stream"
    }
   ],
   "execution_count": null
  },
  {
   "cell_type": "markdown",
   "source": "Most of the individuals who had a heart attack had a cholesterol level ranging from 180 and 320",
   "metadata": {
    "tags": [],
    "cell_id": "00051-6d8759ef-6c5b-4a3b-b663-add1cc9da5ea",
    "deepnote_cell_type": "markdown"
   }
  },
  {
   "cell_type": "markdown",
   "source": "### fbs variable",
   "metadata": {
    "tags": [],
    "cell_id": "00065-8ddc03c6-5377-4202-a58d-95f67234eb9a",
    "deepnote_cell_type": "text-cell-h3"
   }
  },
  {
   "cell_type": "markdown",
   "source": "fbs : (fasting blood sugar > 120 mg/dl) (1 = true; 0 = false)",
   "metadata": {
    "tags": [],
    "cell_id": "00052-1c713685-5b99-48c9-8b17-55a8ccdab604",
    "deepnote_cell_type": "markdown"
   }
  },
  {
   "cell_type": "code",
   "metadata": {
    "tags": [],
    "cell_id": "00053-85d79cdf-0a59-48d7-ba83-1c557ab5d438",
    "deepnote_to_be_reexecuted": false,
    "source_hash": "dcc32158",
    "execution_start": 1621458814358,
    "execution_millis": 174,
    "deepnote_cell_type": "code"
   },
   "source": "heart_attack.fbs.hist(figsize=(16,8))",
   "outputs": [
    {
     "output_type": "execute_result",
     "execution_count": 41,
     "data": {
      "text/plain": "<AxesSubplot:>"
     },
     "metadata": {}
    },
    {
     "data": {
      "text/plain": "<Figure size 1152x576 with 1 Axes>",
      "image/png": "[encoded data removed]"
     },
     "metadata": {
      "needs_background": "light",
      "image/png": {
       "width": 933,
       "height": 466
      }
     },
     "output_type": "display_data"
    }
   ],
   "execution_count": null
  },
  {
   "cell_type": "code",
   "metadata": {
    "tags": [],
    "cell_id": "00051-cebea4ba-7f3f-4357-b62c-2579d8c30534",
    "deepnote_to_be_reexecuted": false,
    "source_hash": "50e2060a",
    "execution_start": 1621458814545,
    "execution_millis": 137,
    "deepnote_cell_type": "code"
   },
   "source": "sns.histplot(data=heart_attack, x=\"fbs\", stat=\"probability\")",
   "outputs": [
    {
     "output_type": "execute_result",
     "execution_count": 42,
     "data": {
      "text/plain": "<AxesSubplot:xlabel='fbs', ylabel='Probability'>"
     },
     "metadata": {}
    },
    {
     "data": {
      "text/plain": "<Figure size 432x288 with 1 Axes>",
      "image/png": "[encoded data removed]"
     },
     "metadata": {
      "needs_background": "light",
      "image/png": {
       "width": 386,
       "height": 262
      }
     },
     "output_type": "display_data"
    }
   ],
   "execution_count": null
  },
  {
   "cell_type": "markdown",
   "source": "Thus we can safely conclude that most of the people(around 90%) who had a heart attack had fasting blood sugar > 120 mg/dl",
   "metadata": {
    "tags": [],
    "cell_id": "00053-5b1819c0-9851-4c90-b0c1-aa6804ec4d34",
    "deepnote_cell_type": "markdown"
   }
  },
  {
   "cell_type": "markdown",
   "source": "### REST ECG variable",
   "metadata": {
    "tags": [],
    "cell_id": "00070-2e5312e2-9a4d-4dc3-abf0-37b9942b0ec1",
    "deepnote_cell_type": "text-cell-h3"
   }
  },
  {
   "cell_type": "markdown",
   "source": "rest_ecg : resting electrocardiographic results\n\n    -Value 0: normal\n    -Value 1: having ST-T wave abnormality (T wave inversions and/or ST elevation or depression of > 0.05 mV)\n    -Value 2: showing probable or definite left ventricular hypertrophy by Estes' criteria",
   "metadata": {
    "tags": [],
    "cell_id": "00055-346a99a5-b37d-405a-9846-c685545823e1",
    "deepnote_cell_type": "markdown"
   }
  },
  {
   "cell_type": "code",
   "metadata": {
    "tags": [],
    "cell_id": "00053-362c04bf-7339-47a1-b65f-873e0bf58893",
    "deepnote_to_be_reexecuted": false,
    "source_hash": "e618def0",
    "execution_start": 1621458814679,
    "execution_millis": 250,
    "deepnote_cell_type": "code"
   },
   "source": "heart_attack.restecg.hist()",
   "outputs": [
    {
     "output_type": "execute_result",
     "execution_count": 43,
     "data": {
      "text/plain": "<AxesSubplot:>"
     },
     "metadata": {}
    },
    {
     "data": {
      "text/plain": "<Figure size 432x288 with 1 Axes>",
      "image/png": "[encoded data removed]"
     },
     "metadata": {
      "needs_background": "light",
      "image/png": {
       "width": 368,
       "height": 250
      }
     },
     "output_type": "display_data"
    }
   ],
   "execution_count": null
  },
  {
   "cell_type": "code",
   "metadata": {
    "tags": [],
    "cell_id": "00058-1a16d527-3232-4411-bc84-b025fdbb0b43",
    "deepnote_to_be_reexecuted": false,
    "source_hash": "501252e5",
    "execution_start": 1621458814937,
    "execution_millis": 44,
    "deepnote_cell_type": "code"
   },
   "source": "heart_attack.restecg.value_counts()",
   "outputs": [
    {
     "output_type": "execute_result",
     "execution_count": 44,
     "data": {
      "text/plain": "1    77\n0    55\n2     1\nName: restecg, dtype: int64"
     },
     "metadata": {}
    }
   ],
   "execution_count": null
  },
  {
   "cell_type": "code",
   "metadata": {
    "tags": [],
    "cell_id": "00059-fa8ce229-b196-42ab-92ea-7833d5a30f75",
    "deepnote_to_be_reexecuted": false,
    "source_hash": "8698c871",
    "execution_start": 1621458814987,
    "execution_millis": 399,
    "deepnote_cell_type": "code"
   },
   "source": "sns.histplot(data=heart_attack, x=\"restecg\", stat=\"probability\")",
   "outputs": [
    {
     "output_type": "execute_result",
     "execution_count": 45,
     "data": {
      "text/plain": "<AxesSubplot:xlabel='restecg', ylabel='Probability'>"
     },
     "metadata": {}
    },
    {
     "data": {
      "text/plain": "<Figure size 432x288 with 1 Axes>",
      "image/png": "[encoded data removed]"
     },
     "metadata": {
      "needs_background": "light",
      "image/png": {
       "width": 386,
       "height": 264
      }
     },
     "output_type": "display_data"
    }
   ],
   "execution_count": null
  },
  {
   "cell_type": "markdown",
   "source": "Thus most of the people with a heart attack have a either a normal resting electrocardio or having ST-T wave abnormality with latter having a slightly higher likelihood",
   "metadata": {
    "tags": [],
    "cell_id": "00060-0b9ffc52-1067-4038-9911-8811191f1453",
    "deepnote_cell_type": "markdown"
   }
  },
  {
   "cell_type": "markdown",
   "source": "### Thalach variable",
   "metadata": {
    "tags": [],
    "cell_id": "00076-67f4ebfb-2937-48d1-9bf6-fdb266f42097",
    "deepnote_cell_type": "text-cell-h3"
   }
  },
  {
   "cell_type": "markdown",
   "source": "thalach : maximum heart rate achieved",
   "metadata": {
    "tags": [],
    "cell_id": "00057-42e56479-50d0-43d7-89fd-dab87fc50ed2",
    "deepnote_cell_type": "markdown"
   }
  },
  {
   "cell_type": "code",
   "metadata": {
    "tags": [],
    "cell_id": "00058-7a108f33-85bb-46d1-a4c4-4dbd3f6df2f3",
    "deepnote_to_be_reexecuted": false,
    "source_hash": "182fc3db",
    "execution_start": 1621458815408,
    "execution_millis": 309,
    "deepnote_cell_type": "code"
   },
   "source": "heart_attack.thalachh.hist(figsize=(16,8))",
   "outputs": [
    {
     "output_type": "execute_result",
     "execution_count": 46,
     "data": {
      "text/plain": "<AxesSubplot:>"
     },
     "metadata": {}
    },
    {
     "data": {
      "text/plain": "<Figure size 1152x576 with 1 Axes>",
      "image/png": "[encoded data removed]"
     },
     "metadata": {
      "needs_background": "light",
      "image/png": {
       "width": 926,
       "height": 466
      }
     },
     "output_type": "display_data"
    }
   ],
   "execution_count": null
  },
  {
   "cell_type": "code",
   "metadata": {
    "tags": [],
    "cell_id": "00063-7afb53bd-da4b-4ad6-b598-d6a24c46507c",
    "deepnote_to_be_reexecuted": false,
    "source_hash": "2d37d717",
    "execution_start": 1621458815719,
    "execution_millis": 60,
    "deepnote_cell_type": "code"
   },
   "source": "category_values(heart_attack.thalachh, 20)",
   "outputs": [
    {
     "output_type": "execute_result",
     "execution_count": 47,
     "data": {
      "text/plain": "[([80, 100], 1),\n ([100, 120], 4),\n ([120, 140], 15),\n ([140, 160], 42),\n ([160, 180], 59),\n ([180, 200], 11),\n ([200, 220], 1)]"
     },
     "metadata": {}
    }
   ],
   "execution_count": null
  },
  {
   "cell_type": "code",
   "metadata": {
    "tags": [],
    "cell_id": "00064-b125ccd4-b6df-4344-a857-e3579e4c1610",
    "deepnote_to_be_reexecuted": false,
    "source_hash": "ec967e11",
    "execution_start": 1621458815731,
    "execution_millis": 50,
    "deepnote_cell_type": "code"
   },
   "source": "heart_attack.thalachh.max(), heart_attack.thalachh.min()",
   "outputs": [
    {
     "output_type": "execute_result",
     "execution_count": 48,
     "data": {
      "text/plain": "(202, 96)"
     },
     "metadata": {}
    }
   ],
   "execution_count": null
  },
  {
   "cell_type": "code",
   "metadata": {
    "tags": [],
    "cell_id": "00064-ced9f76e-3526-46a4-94ca-c84409fe3712",
    "deepnote_to_be_reexecuted": false,
    "source_hash": "373393f2",
    "execution_start": 1621458815746,
    "execution_millis": 48,
    "deepnote_cell_type": "code"
   },
   "source": "a=0\nfor i,j in category_values(heart_attack.thalachh,20):\n    if i[0]>=120 and i[1]<=180:\n        a+=j\nprint((a/len(heart_attack.thalachh))*100,\"%\")",
   "outputs": [
    {
     "name": "stdout",
     "text": "87.21804511278195 %\n",
     "output_type": "stream"
    }
   ],
   "execution_count": null
  },
  {
   "cell_type": "markdown",
   "source": "Most of the people with heart attacks have a max heartbeat ranging from 120 to 180",
   "metadata": {
    "tags": [],
    "cell_id": "00066-c3699afa-71c3-4709-ba9f-41797fcfcc76",
    "deepnote_cell_type": "markdown"
   }
  },
  {
   "cell_type": "markdown",
   "source": "### exng variable",
   "metadata": {
    "tags": [],
    "cell_id": "00086-c7833eab-616e-4459-acc0-a889ed539571",
    "deepnote_cell_type": "text-cell-h3"
   }
  },
  {
   "cell_type": "markdown",
   "source": "exang: exercise induced angina (1 = yes; 0 = no)",
   "metadata": {
    "tags": [],
    "cell_id": "00087-1339da39-f333-417f-aebf-968cd50e378c",
    "deepnote_cell_type": "markdown"
   }
  },
  {
   "cell_type": "code",
   "source": "heart_attack.exng.hist()",
   "metadata": {
    "tags": [],
    "cell_id": "00088-68cc271f-c9e9-4df1-9df3-fd73b630f2d7",
    "deepnote_to_be_reexecuted": false,
    "source_hash": "4deed312",
    "execution_start": 1621461835539,
    "execution_millis": 548,
    "deepnote_cell_type": "code"
   },
   "outputs": [
    {
     "output_type": "execute_result",
     "execution_count": 57,
     "data": {
      "text/plain": "<AxesSubplot:>"
     },
     "metadata": {}
    },
    {
     "data": {
      "text/plain": "<Figure size 432x288 with 1 Axes>",
      "image/png": "[encoded data removed]"
     },
     "metadata": {
      "needs_background": "light",
      "image/png": {
       "width": 375,
       "height": 249
      }
     },
     "output_type": "display_data"
    }
   ],
   "execution_count": null
  },
  {
   "cell_type": "code",
   "source": "sns.histplot(data=heart_attack, x=\"exng\", stat=\"probability\")",
   "metadata": {
    "tags": [],
    "cell_id": "00089-a86288eb-e3e5-41f2-a978-93cf88214e2b",
    "deepnote_to_be_reexecuted": false,
    "source_hash": "49c08b68",
    "execution_start": 1621461902597,
    "execution_millis": 164,
    "deepnote_cell_type": "code"
   },
   "outputs": [
    {
     "output_type": "execute_result",
     "execution_count": 58,
     "data": {
      "text/plain": "<AxesSubplot:xlabel='exng', ylabel='Probability'>"
     },
     "metadata": {}
    },
    {
     "data": {
      "text/plain": "<Figure size 432x288 with 1 Axes>",
      "image/png": "[encoded data removed]"
     },
     "metadata": {
      "needs_background": "light",
      "image/png": {
       "width": 386,
       "height": 262
      }
     },
     "output_type": "display_data"
    }
   ],
   "execution_count": null
  },
  {
   "cell_type": "markdown",
   "source": "Around 90% of the individuals with a heart attack never had an exercise induced angina",
   "metadata": {
    "tags": [],
    "cell_id": "00090-8f6589f0-2c79-4e75-8226-1e3b64b0afd0",
    "deepnote_cell_type": "markdown"
   }
  },
  {
   "cell_type": "markdown",
   "source": "### slp variable",
   "metadata": {
    "tags": [],
    "cell_id": "00087-54e40c8d-cd56-4073-ac45-520a0bd35abf",
    "deepnote_cell_type": "text-cell-h3"
   }
  },
  {
   "cell_type": "markdown",
   "source": "slp: slope - the slope of the peak exercise ST segment (2 = upsloping; 1 = flat; 0 = downsloping)",
   "metadata": {
    "tags": [],
    "cell_id": "00092-e72032c1-2938-47cd-8a84-c9362a1221f4",
    "deepnote_cell_type": "markdown"
   }
  },
  {
   "cell_type": "code",
   "source": "heart_attack.slp.hist()",
   "metadata": {
    "tags": [],
    "cell_id": "00092-e695a680-5d23-447c-8996-296c82f16cc4",
    "deepnote_to_be_reexecuted": false,
    "source_hash": "b1579a9",
    "execution_start": 1621461968191,
    "execution_millis": 206,
    "deepnote_cell_type": "code"
   },
   "outputs": [
    {
     "output_type": "execute_result",
     "execution_count": 59,
     "data": {
      "text/plain": "<AxesSubplot:>"
     },
     "metadata": {}
    },
    {
     "data": {
      "text/plain": "<Figure size 432x288 with 1 Axes>",
      "image/png": "[encoded data removed]"
     },
     "metadata": {
      "needs_background": "light",
      "image/png": {
       "width": 368,
       "height": 248
      }
     },
     "output_type": "display_data"
    }
   ],
   "execution_count": null
  },
  {
   "cell_type": "code",
   "source": "sns.histplot(data=heart_attack, x=\"slp\", stat=\"probability\")",
   "metadata": {
    "tags": [],
    "cell_id": "00093-45bcbbb5-f29d-43df-b213-55e25086c368",
    "deepnote_to_be_reexecuted": false,
    "source_hash": "9f2d6ecb",
    "execution_start": 1621461992651,
    "execution_millis": 165,
    "deepnote_cell_type": "code"
   },
   "outputs": [
    {
     "output_type": "execute_result",
     "execution_count": 60,
     "data": {
      "text/plain": "<AxesSubplot:xlabel='slp', ylabel='Probability'>"
     },
     "metadata": {}
    },
    {
     "data": {
      "text/plain": "<Figure size 432x288 with 1 Axes>",
      "image/png": "[encoded data removed]"
     },
     "metadata": {
      "needs_background": "light",
      "image/png": {
       "width": 386,
       "height": 262
      }
     },
     "output_type": "display_data"
    }
   ],
   "execution_count": null
  },
  {
   "cell_type": "markdown",
   "source": "We can conclude that around 65% of the individuals with heart attacks had an upsloping and almost 30% had a flat slope while the other 5% had a downsloping",
   "metadata": {
    "tags": [],
    "cell_id": "00094-9a742e9a-9c61-4ddf-855c-89b0bea29703",
    "deepnote_cell_type": "markdown"
   }
  },
  {
   "cell_type": "markdown",
   "source": "### caa variable",
   "metadata": {
    "tags": [],
    "cell_id": "00088-8bc8b3b6-d94f-4180-b37d-f72387b54131",
    "deepnote_cell_type": "text-cell-h3"
   }
  },
  {
   "cell_type": "markdown",
   "source": "caa - number of major vessels (0-4) colored by flourosopy",
   "metadata": {
    "tags": [],
    "cell_id": "00097-b5b04b31-990a-4916-9f40-d14b1f866a5a",
    "deepnote_cell_type": "text-cell-p"
   }
  },
  {
   "cell_type": "code",
   "source": "heart_attack.caa.hist()",
   "metadata": {
    "tags": [],
    "cell_id": "00097-92a8352c-d955-4ed9-a9ad-4e0d2a502bbb",
    "deepnote_to_be_reexecuted": false,
    "source_hash": "811f8c2d",
    "execution_start": 1621464203825,
    "execution_millis": 213,
    "deepnote_cell_type": "code"
   },
   "outputs": [
    {
     "output_type": "execute_result",
     "execution_count": 61,
     "data": {
      "text/plain": "<AxesSubplot:>"
     },
     "metadata": {}
    },
    {
     "data": {
      "text/plain": "<Figure size 432x288 with 1 Axes>",
      "image/png": "[encoded data removed]"
     },
     "metadata": {
      "needs_background": "light",
      "image/png": {
       "width": 375,
       "height": 248
      }
     },
     "output_type": "display_data"
    }
   ],
   "execution_count": null
  },
  {
   "cell_type": "code",
   "source": "sns.histplot(data=heart_attack, x=\"caa\", stat=\"probability\")",
   "metadata": {
    "tags": [],
    "cell_id": "00099-6b3d961d-265a-4f1b-88d7-1a5d2ebb1caa",
    "deepnote_to_be_reexecuted": false,
    "source_hash": "171f94ac",
    "execution_start": 1621464259951,
    "execution_millis": 198,
    "deepnote_cell_type": "code"
   },
   "outputs": [
    {
     "output_type": "execute_result",
     "execution_count": 62,
     "data": {
      "text/plain": "<AxesSubplot:xlabel='caa', ylabel='Probability'>"
     },
     "metadata": {}
    },
    {
     "data": {
      "text/plain": "<Figure size 432x288 with 1 Axes>",
      "image/png": "[encoded data removed]"
     },
     "metadata": {
      "needs_background": "light",
      "image/png": {
       "width": 386,
       "height": 262
      }
     },
     "output_type": "display_data"
    }
   ],
   "execution_count": null
  },
  {
   "cell_type": "markdown",
   "source": "Most of the individuals who had heart attack (around 80% of them) had a value of 0 for the caa",
   "metadata": {
    "tags": [],
    "cell_id": "00100-067e53b8-03b0-4989-a557-463e4395bccf",
    "deepnote_cell_type": "markdown"
   }
  },
  {
   "cell_type": "markdown",
   "source": "### thall variable",
   "metadata": {
    "tags": [],
    "cell_id": "00089-2786bc86-0d60-4730-ac9d-7d0f42170dd4",
    "deepnote_cell_type": "text-cell-h3"
   }
  },
  {
   "cell_type": "markdown",
   "source": "thal - 2 = normal; 1 = fixed defect; 3 = reversable defect",
   "metadata": {
    "tags": [],
    "cell_id": "00102-fa8f4dee-ab95-418a-a003-a4e26236e872",
    "deepnote_cell_type": "text-cell-p"
   }
  },
  {
   "cell_type": "code",
   "source": "heart_attack.thall.hist()",
   "metadata": {
    "tags": [],
    "cell_id": "00102-3b508539-d784-4859-ac04-7d39c69de915",
    "deepnote_to_be_reexecuted": false,
    "source_hash": "117ffd07",
    "execution_start": 1621464373304,
    "execution_millis": 156,
    "deepnote_cell_type": "code"
   },
   "outputs": [
    {
     "output_type": "execute_result",
     "execution_count": 63,
     "data": {
      "text/plain": "<AxesSubplot:>"
     },
     "metadata": {}
    },
    {
     "data": {
      "text/plain": "<Figure size 432x288 with 1 Axes>",
      "image/png": "[encoded data removed]"
     },
     "metadata": {
      "needs_background": "light",
      "image/png": {
       "width": 375,
       "height": 248
      }
     },
     "output_type": "display_data"
    }
   ],
   "execution_count": null
  },
  {
   "cell_type": "code",
   "source": "sns.histplot(data=heart_attack, x=\"thall\", stat=\"probability\")",
   "metadata": {
    "tags": [],
    "cell_id": "00103-1f4d32e8-3e18-4679-b631-02be5d8d0322",
    "deepnote_to_be_reexecuted": false,
    "source_hash": "bb7cee98",
    "execution_start": 1621464387698,
    "execution_millis": 323,
    "deepnote_cell_type": "code"
   },
   "outputs": [
    {
     "output_type": "execute_result",
     "execution_count": 64,
     "data": {
      "text/plain": "<AxesSubplot:xlabel='thall', ylabel='Probability'>"
     },
     "metadata": {}
    },
    {
     "data": {
      "text/plain": "<Figure size 432x288 with 1 Axes>",
      "image/png": "[encoded data removed]"
     },
     "metadata": {
      "needs_background": "light",
      "image/png": {
       "width": 386,
       "height": 262
      }
     },
     "output_type": "display_data"
    }
   ],
   "execution_count": null
  },
  {
   "cell_type": "markdown",
   "source": "Most&nbsp;of&nbsp;the&nbsp;individuals&nbsp;who&nbsp;had&nbsp;heart&nbsp;attack&nbsp;(around&nbsp;80%&nbsp;of&nbsp;them)&nbsp;had&nbsp;a&nbsp;value&nbsp;of&nbsp;2&nbsp;for&nbsp;the&nbsp;thall followed by 11% that had a value of 3",
   "metadata": {
    "tags": [],
    "cell_id": "00103-5c917f6f-f5ae-46b3-929c-f05646e37592",
    "deepnote_cell_type": "text-cell-p"
   }
  },
  {
   "cell_type": "markdown",
   "source": "### Correlation Matrix",
   "metadata": {
    "tags": [],
    "cell_id": "00086-05e20240-2cf9-4256-b054-145149944a6d",
    "deepnote_cell_type": "text-cell-h3"
   }
  },
  {
   "cell_type": "code",
   "source": "corr_matrix = train_set.corr()\ncorr_matrix",
   "metadata": {
    "tags": [],
    "cell_id": "00085-7dc9a634-f599-4813-9a52-eefcb052bcb3",
    "deepnote_to_be_reexecuted": false,
    "source_hash": "f07bcd4",
    "execution_start": 1621458971191,
    "execution_millis": 50,
    "deepnote_cell_type": "code"
   },
   "outputs": [
    {
     "output_type": "execute_result",
     "execution_count": 53,
     "data": {
      "application/vnd.deepnote.dataframe.v2+json": {
       "row_count": 14,
       "column_count": 14,
       "columns": [
        {
         "name": "age",
         "dtype": "float64",
         "stats": {
          "unique_count": 14,
          "nan_count": 0,
          "min": "-0.3963775341845615",
          "max": "1.0",
          "histogram": [
           {
            "bin_start": -0.3963775341845615,
            "bin_end": -0.2567397807661054,
            "count": 1
           },
           {
            "bin_start": -0.2567397807661054,
            "bin_end": -0.11710202734764924,
            "count": 3
           },
           {
            "bin_start": -0.11710202734764924,
            "bin_end": 0.022535726070806894,
            "count": 2
           },
           {
            "bin_start": 0.022535726070806894,
            "bin_end": 0.16217347948926303,
            "count": 3
           },
           {
            "bin_start": 0.16217347948926303,
            "bin_end": 0.3018112329077191,
            "count": 4
           },
           {
            "bin_start": 0.3018112329077191,
            "bin_end": 0.4414489863261753,
            "count": 0
           },
           {
            "bin_start": 0.4414489863261753,
            "bin_end": 0.5810867397446315,
            "count": 0
           },
           {
            "bin_start": 0.5810867397446315,
            "bin_end": 0.7207244931630876,
            "count": 0
           },
           {
            "bin_start": 0.7207244931630876,
            "bin_end": 0.8603622465815437,
            "count": 0
           },
           {
            "bin_start": 0.8603622465815437,
            "bin_end": 1,
            "count": 1
           }
          ]
         }
        },
        {
         "name": "sex",
         "dtype": "float64",
         "stats": {
          "unique_count": 14,
          "nan_count": 0,
          "min": "-0.30415561209742425",
          "max": "1.0",
          "histogram": [
           {
            "bin_start": -0.30415561209742425,
            "bin_end": -0.17374005088768182,
            "count": 2
           },
           {
            "bin_start": -0.17374005088768182,
            "bin_end": -0.04332448967793939,
            "count": 4
           },
           {
            "bin_start": -0.04332448967793939,
            "bin_end": 0.08709107153180307,
            "count": 3
           },
           {
            "bin_start": 0.08709107153180307,
            "bin_end": 0.21750663274154547,
            "count": 3
           },
           {
            "bin_start": 0.21750663274154547,
            "bin_end": 0.3479221939512879,
            "count": 1
           },
           {
            "bin_start": 0.3479221939512879,
            "bin_end": 0.4783377551610304,
            "count": 0
           },
           {
            "bin_start": 0.4783377551610304,
            "bin_end": 0.6087533163707728,
            "count": 0
           },
           {
            "bin_start": 0.6087533163707728,
            "bin_end": 0.7391688775805152,
            "count": 0
           },
           {
            "bin_start": 0.7391688775805152,
            "bin_end": 0.8695844387902576,
            "count": 0
           },
           {
            "bin_start": 0.8695844387902576,
            "bin_end": 1,
            "count": 1
           }
          ]
         }
        },
        {
         "name": "cp",
         "dtype": "float64",
         "stats": {
          "unique_count": 14,
          "nan_count": 0,
          "min": "-0.3609659948993074",
          "max": "1.0",
          "histogram": [
           {
            "bin_start": -0.3609659948993074,
            "bin_end": -0.22486939540937667,
            "count": 1
           },
           {
            "bin_start": -0.22486939540937667,
            "bin_end": -0.08877279591944592,
            "count": 4
           },
           {
            "bin_start": -0.08877279591944592,
            "bin_end": 0.047323803570484824,
            "count": 4
           },
           {
            "bin_start": 0.047323803570484824,
            "bin_end": 0.18342040306041557,
            "count": 2
           },
           {
            "bin_start": 0.18342040306041557,
            "bin_end": 0.3195170025503464,
            "count": 1
           },
           {
            "bin_start": 0.3195170025503464,
            "bin_end": 0.45561360204027707,
            "count": 1
           },
           {
            "bin_start": 0.45561360204027707,
            "bin_end": 0.5917102015302078,
            "count": 0
           },
           {
            "bin_start": 0.5917102015302078,
            "bin_end": 0.7278068010201386,
            "count": 0
           },
           {
            "bin_start": 0.7278068010201386,
            "bin_end": 0.8639034005100694,
            "count": 0
           },
           {
            "bin_start": 0.8639034005100694,
            "bin_end": 1,
            "count": 1
           }
          ]
         }
        },
        {
         "name": "trtbps",
         "dtype": "float64",
         "stats": {
          "unique_count": 14,
          "nan_count": 0,
          "min": "-0.10425694411128235",
          "max": "1.0",
          "histogram": [
           {
            "bin_start": -0.10425694411128235,
            "bin_end": 0.006168750299845885,
            "count": 5
           },
           {
            "bin_start": 0.006168750299845885,
            "bin_end": 0.11659444471097412,
            "count": 4
           },
           {
            "bin_start": 0.11659444471097412,
            "bin_end": 0.22702013912210234,
            "count": 3
           },
           {
            "bin_start": 0.22702013912210234,
            "bin_end": 0.3374458335332306,
            "count": 1
           },
           {
            "bin_start": 0.3374458335332306,
            "bin_end": 0.44787152794435886,
            "count": 0
           },
           {
            "bin_start": 0.44787152794435886,
            "bin_end": 0.558297222355487,
            "count": 0
           },
           {
            "bin_start": 0.558297222355487,
            "bin_end": 0.6687229167666152,
            "count": 0
           },
           {
            "bin_start": 0.6687229167666152,
            "bin_end": 0.7791486111777435,
            "count": 0
           },
           {
            "bin_start": 0.7791486111777435,
            "bin_end": 0.8895743055888717,
            "count": 0
           },
           {
            "bin_start": 0.8895743055888717,
            "bin_end": 1,
            "count": 1
           }
          ]
         }
        },
        {
         "name": "chol",
         "dtype": "float64",
         "stats": {
          "unique_count": 14,
          "nan_count": 0,
          "min": "-0.20603590035048525",
          "max": "1.0",
          "histogram": [
           {
            "bin_start": -0.20603590035048525,
            "bin_end": -0.08543231031543672,
            "count": 2
           },
           {
            "bin_start": -0.08543231031543672,
            "bin_end": 0.035171279719611814,
            "count": 5
           },
           {
            "bin_start": 0.035171279719611814,
            "bin_end": 0.15577486975466037,
            "count": 5
           },
           {
            "bin_start": 0.15577486975466037,
            "bin_end": 0.2763784597897089,
            "count": 1
           },
           {
            "bin_start": 0.2763784597897089,
            "bin_end": 0.3969820498247574,
            "count": 0
           },
           {
            "bin_start": 0.3969820498247574,
            "bin_end": 0.517585639859806,
            "count": 0
           },
           {
            "bin_start": 0.517585639859806,
            "bin_end": 0.6381892298948545,
            "count": 0
           },
           {
            "bin_start": 0.6381892298948545,
            "bin_end": 0.758792819929903,
            "count": 0
           },
           {
            "bin_start": 0.758792819929903,
            "bin_end": 0.8793964099649516,
            "count": 0
           },
           {
            "bin_start": 0.8793964099649516,
            "bin_end": 1,
            "count": 1
           }
          ]
         }
        },
        {
         "name": "fbs",
         "dtype": "float64",
         "stats": {
          "unique_count": 14,
          "nan_count": 0,
          "min": "-0.07393990212994042",
          "max": "1.0",
          "histogram": [
           {
            "bin_start": -0.07393990212994042,
            "bin_end": 0.033454088083053626,
            "count": 7
           },
           {
            "bin_start": 0.033454088083053626,
            "bin_end": 0.14084807829604767,
            "count": 4
           },
           {
            "bin_start": 0.14084807829604767,
            "bin_end": 0.2482420685090417,
            "count": 2
           },
           {
            "bin_start": 0.2482420685090417,
            "bin_end": 0.35563605872203574,
            "count": 0
           },
           {
            "bin_start": 0.35563605872203574,
            "bin_end": 0.46303004893502986,
            "count": 0
           },
           {
            "bin_start": 0.46303004893502986,
            "bin_end": 0.5704240391480239,
            "count": 0
           },
           {
            "bin_start": 0.5704240391480239,
            "bin_end": 0.677818029361018,
            "count": 0
           },
           {
            "bin_start": 0.677818029361018,
            "bin_end": 0.785212019574012,
            "count": 0
           },
           {
            "bin_start": 0.785212019574012,
            "bin_end": 0.892606009787006,
            "count": 0
           },
           {
            "bin_start": 0.892606009787006,
            "bin_end": 1,
            "count": 1
           }
          ]
         }
        },
        {
         "name": "restecg",
         "dtype": "float64",
         "stats": {
          "unique_count": 14,
          "nan_count": 0,
          "min": "-0.13068416150954987",
          "max": "1.0",
          "histogram": [
           {
            "bin_start": -0.13068416150954987,
            "bin_end": -0.017615745358594892,
            "count": 7
           },
           {
            "bin_start": -0.017615745358594892,
            "bin_end": 0.09545267079236008,
            "count": 6
           },
           {
            "bin_start": 0.09545267079236008,
            "bin_end": 0.20852108694331506,
            "count": 0
           },
           {
            "bin_start": 0.20852108694331506,
            "bin_end": 0.32158950309427003,
            "count": 0
           },
           {
            "bin_start": 0.32158950309427003,
            "bin_end": 0.434657919245225,
            "count": 0
           },
           {
            "bin_start": 0.434657919245225,
            "bin_end": 0.54772633539618,
            "count": 0
           },
           {
            "bin_start": 0.54772633539618,
            "bin_end": 0.660794751547135,
            "count": 0
           },
           {
            "bin_start": 0.660794751547135,
            "bin_end": 0.7738631676980899,
            "count": 0
           },
           {
            "bin_start": 0.7738631676980899,
            "bin_end": 0.8869315838490449,
            "count": 0
           },
           {
            "bin_start": 0.8869315838490449,
            "bin_end": 1,
            "count": 1
           }
          ]
         }
        },
        {
         "name": "thalachh",
         "dtype": "float64",
         "stats": {
          "unique_count": 14,
          "nan_count": 0,
          "min": "-0.3978499814767215",
          "max": "1.0",
          "histogram": [
           {
            "bin_start": -0.3978499814767215,
            "bin_end": -0.25806498332904937,
            "count": 3
           },
           {
            "bin_start": -0.25806498332904937,
            "bin_end": -0.11827998518137722,
            "count": 1
           },
           {
            "bin_start": -0.11827998518137722,
            "bin_end": 0.021505012966294923,
            "count": 6
           },
           {
            "bin_start": 0.021505012966294923,
            "bin_end": 0.16129001111396707,
            "count": 0
           },
           {
            "bin_start": 0.16129001111396707,
            "bin_end": 0.30107500926163927,
            "count": 1
           },
           {
            "bin_start": 0.30107500926163927,
            "bin_end": 0.44086000740931136,
            "count": 2
           },
           {
            "bin_start": 0.44086000740931136,
            "bin_end": 0.5806450055569834,
            "count": 0
           },
           {
            "bin_start": 0.5806450055569834,
            "bin_end": 0.7204300037046556,
            "count": 0
           },
           {
            "bin_start": 0.7204300037046556,
            "bin_end": 0.8602150018523278,
            "count": 0
           },
           {
            "bin_start": 0.8602150018523278,
            "bin_end": 1,
            "count": 1
           }
          ]
         }
        },
        {
         "name": "exng",
         "dtype": "float64",
         "stats": {
          "unique_count": 14,
          "nan_count": 0,
          "min": "-0.4432174277993226",
          "max": "1.0",
          "histogram": [
           {
            "bin_start": -0.4432174277993226,
            "bin_end": -0.29889568501939034,
            "count": 3
           },
           {
            "bin_start": -0.29889568501939034,
            "bin_end": -0.15457394223945808,
            "count": 1
           },
           {
            "bin_start": -0.15457394223945808,
            "bin_end": -0.010252199459525824,
            "count": 1
           },
           {
            "bin_start": -0.010252199459525824,
            "bin_end": 0.13406954332040644,
            "count": 4
           },
           {
            "bin_start": 0.13406954332040644,
            "bin_end": 0.2783912861003387,
            "count": 3
           },
           {
            "bin_start": 0.2783912861003387,
            "bin_end": 0.42271302888027096,
            "count": 1
           },
           {
            "bin_start": 0.42271302888027096,
            "bin_end": 0.5670347716602031,
            "count": 0
           },
           {
            "bin_start": 0.5670347716602031,
            "bin_end": 0.7113565144401355,
            "count": 0
           },
           {
            "bin_start": 0.7113565144401355,
            "bin_end": 0.8556782572200679,
            "count": 0
           },
           {
            "bin_start": 0.8556782572200679,
            "bin_end": 1,
            "count": 1
           }
          ]
         }
        },
        {
         "name": "oldpeak",
         "dtype": "float64",
         "stats": {
          "unique_count": 14,
          "nan_count": 0,
          "min": "-0.5551519246002492",
          "max": "1.0",
          "histogram": [
           {
            "bin_start": -0.5551519246002492,
            "bin_end": -0.39963673214022427,
            "count": 2
           },
           {
            "bin_start": -0.39963673214022427,
            "bin_end": -0.24412153968019934,
            "count": 1
           },
           {
            "bin_start": -0.24412153968019934,
            "bin_end": -0.08860634722017441,
            "count": 1
           },
           {
            "bin_start": -0.08860634722017441,
            "bin_end": 0.06690884523985052,
            "count": 2
           },
           {
            "bin_start": 0.06690884523985052,
            "bin_end": 0.2224240376998754,
            "count": 5
           },
           {
            "bin_start": 0.2224240376998754,
            "bin_end": 0.3779392301599004,
            "count": 2
           },
           {
            "bin_start": 0.3779392301599004,
            "bin_end": 0.5334544226199254,
            "count": 0
           },
           {
            "bin_start": 0.5334544226199254,
            "bin_end": 0.6889696150799502,
            "count": 0
           },
           {
            "bin_start": 0.6889696150799502,
            "bin_end": 0.8444848075399751,
            "count": 0
           },
           {
            "bin_start": 0.8444848075399751,
            "bin_end": 1,
            "count": 1
           }
          ]
         }
        },
        {
         "name": "slp",
         "dtype": "float64",
         "stats": {
          "unique_count": 14,
          "nan_count": 0,
          "min": "-0.5551519246002492",
          "max": "1.0",
          "histogram": [
           {
            "bin_start": -0.5551519246002492,
            "bin_end": -0.39963673214022427,
            "count": 1
           },
           {
            "bin_start": -0.39963673214022427,
            "bin_end": -0.24412153968019934,
            "count": 1
           },
           {
            "bin_start": -0.24412153968019934,
            "bin_end": -0.08860634722017441,
            "count": 2
           },
           {
            "bin_start": -0.08860634722017441,
            "bin_end": 0.06690884523985052,
            "count": 6
           },
           {
            "bin_start": 0.06690884523985052,
            "bin_end": 0.2224240376998754,
            "count": 1
           },
           {
            "bin_start": 0.2224240376998754,
            "bin_end": 0.3779392301599004,
            "count": 2
           },
           {
            "bin_start": 0.3779392301599004,
            "bin_end": 0.5334544226199254,
            "count": 0
           },
           {
            "bin_start": 0.5334544226199254,
            "bin_end": 0.6889696150799502,
            "count": 0
           },
           {
            "bin_start": 0.6889696150799502,
            "bin_end": 0.8444848075399751,
            "count": 0
           },
           {
            "bin_start": 0.8444848075399751,
            "bin_end": 1,
            "count": 1
           }
          ]
         }
        },
        {
         "name": "caa",
         "dtype": "float64",
         "stats": {
          "unique_count": 14,
          "nan_count": 0,
          "min": "-0.37539101885219217",
          "max": "1.0",
          "histogram": [
           {
            "bin_start": -0.37539101885219217,
            "bin_end": -0.23785191696697294,
            "count": 1
           },
           {
            "bin_start": -0.23785191696697294,
            "bin_end": -0.10031281508175371,
            "count": 2
           },
           {
            "bin_start": -0.10031281508175371,
            "bin_end": 0.037226286803465514,
            "count": 3
           },
           {
            "bin_start": 0.037226286803465514,
            "bin_end": 0.17476538868868474,
            "count": 5
           },
           {
            "bin_start": 0.17476538868868474,
            "bin_end": 0.31230449057390397,
            "count": 2
           },
           {
            "bin_start": 0.31230449057390397,
            "bin_end": 0.4498435924591232,
            "count": 0
           },
           {
            "bin_start": 0.4498435924591232,
            "bin_end": 0.5873826943443424,
            "count": 0
           },
           {
            "bin_start": 0.5873826943443424,
            "bin_end": 0.7249217962295617,
            "count": 0
           },
           {
            "bin_start": 0.7249217962295617,
            "bin_end": 0.8624608981147809,
            "count": 0
           },
           {
            "bin_start": 0.8624608981147809,
            "bin_end": 1,
            "count": 1
           }
          ]
         }
        },
        {
         "name": "thall",
         "dtype": "float64",
         "stats": {
          "unique_count": 14,
          "nan_count": 0,
          "min": "-0.3380541462396186",
          "max": "1.0",
          "histogram": [
           {
            "bin_start": -0.3380541462396186,
            "bin_end": -0.20424873161565674,
            "count": 1
           },
           {
            "bin_start": -0.20424873161565674,
            "bin_end": -0.07044331699169487,
            "count": 3
           },
           {
            "bin_start": -0.07044331699169487,
            "bin_end": 0.06336209763226697,
            "count": 3
           },
           {
            "bin_start": 0.06336209763226697,
            "bin_end": 0.19716751225622886,
            "count": 3
           },
           {
            "bin_start": 0.19716751225622886,
            "bin_end": 0.33097292688019075,
            "count": 3
           },
           {
            "bin_start": 0.33097292688019075,
            "bin_end": 0.46477834150415254,
            "count": 0
           },
           {
            "bin_start": 0.46477834150415254,
            "bin_end": 0.5985837561281144,
            "count": 0
           },
           {
            "bin_start": 0.5985837561281144,
            "bin_end": 0.7323891707520763,
            "count": 0
           },
           {
            "bin_start": 0.7323891707520763,
            "bin_end": 0.8661945853760381,
            "count": 0
           },
           {
            "bin_start": 0.8661945853760381,
            "bin_end": 1,
            "count": 1
           }
          ]
         }
        },
        {
         "name": "output",
         "dtype": "float64",
         "stats": {
          "unique_count": 14,
          "nan_count": 0,
          "min": "-0.44730453119273156",
          "max": "1.0",
          "histogram": [
           {
            "bin_start": -0.44730453119273156,
            "bin_end": -0.3025740780734584,
            "count": 5
           },
           {
            "bin_start": -0.3025740780734584,
            "bin_end": -0.15784362495418525,
            "count": 1
           },
           {
            "bin_start": -0.15784362495418525,
            "bin_end": -0.013113171834912063,
            "count": 2
           },
           {
            "bin_start": -0.013113171834912063,
            "bin_end": 0.13161728128436107,
            "count": 2
           },
           {
            "bin_start": 0.13161728128436107,
            "bin_end": 0.2763477344036342,
            "count": 0
           },
           {
            "bin_start": 0.2763477344036342,
            "bin_end": 0.42107818752290743,
            "count": 3
           },
           {
            "bin_start": 0.42107818752290743,
            "bin_end": 0.5658086406421805,
            "count": 0
           },
           {
            "bin_start": 0.5658086406421805,
            "bin_end": 0.7105390937614537,
            "count": 0
           },
           {
            "bin_start": 0.7105390937614537,
            "bin_end": 0.855269546880727,
            "count": 0
           },
           {
            "bin_start": 0.855269546880727,
            "bin_end": 1,
            "count": 1
           }
          ]
         }
        },
        {
         "name": "_deepnote_index_column",
         "dtype": "object"
        }
       ],
       "rows_top": [
        {
         "age": 1,
         "sex": -0.09911479709281824,
         "cp": -0.10319520007961225,
         "trtbps": 0.28522377592963766,
         "chol": 0.23192183519446785,
         "fbs": 0.13145053645308566,
         "restecg": -0.12750012609308903,
         "thalachh": -0.3963775341845615,
         "exng": 0.14812794562483497,
         "oldpeak": 0.2023524673120084,
         "slp": -0.16334537045028855,
         "caa": 0.2974488369177565,
         "thall": 0.06393280838420179,
         "output": -0.2337819866725684,
         "_deepnote_index_column": "age"
        },
        {
         "age": -0.09911479709281824,
         "sex": 1,
         "cp": -0.048505067750989395,
         "trtbps": -0.0939013826621084,
         "chol": -0.20603590035048525,
         "fbs": 0.0425145329776915,
         "restecg": -0.05001639455714494,
         "thalachh": -0.03293539384020776,
         "exng": 0.15127994739618958,
         "oldpeak": 0.14950565887000117,
         "slp": -0.04329745826728779,
         "caa": 0.15489692144494005,
         "thall": 0.22089205234378143,
         "output": -0.30415561209742425,
         "_deepnote_index_column": "sex"
        },
        {
         "age": -0.10319520007961225,
         "sex": -0.048505067750989395,
         "cp": 1,
         "trtbps": 0.0288678147893851,
         "chol": -0.0728119747949656,
         "fbs": 0.1606270099240149,
         "restecg": 0.008472532829702216,
         "thalachh": 0.29069356828998594,
         "exng": -0.3609659948993074,
         "oldpeak": -0.14307078013040564,
         "slp": 0.11246505910826549,
         "caa": -0.15417219526971068,
         "thall": -0.18722138835659963,
         "output": 0.40776800670369756,
         "_deepnote_index_column": "cp"
        },
        {
         "age": 0.28522377592963766,
         "sex": -0.0939013826621084,
         "cp": 0.0288678147893851,
         "trtbps": 1,
         "chol": 0.14766418133267503,
         "fbs": 0.18616353619074336,
         "restecg": -0.06748452481071814,
         "thalachh": -0.03763757338483957,
         "exng": 0.058673735661267754,
         "oldpeak": 0.13244157016689806,
         "slp": -0.03962600368553102,
         "caa": 0.05691842717375628,
         "thall": 0.006542317129688643,
         "output": -0.10425694411128235,
         "_deepnote_index_column": "trtbps"
        },
        {
         "age": 0.23192183519446785,
         "sex": -0.20603590035048525,
         "cp": -0.0728119747949656,
         "trtbps": 0.14766418133267503,
         "chol": 1,
         "fbs": 0.05042567737540542,
         "restecg": -0.13068416150954987,
         "thalachh": 0.012982865647437473,
         "exng": 0.041558519790705566,
         "oldpeak": 0.11144186792274904,
         "slp": 0.016555631061916327,
         "caa": 0.022286664764544047,
         "thall": 0.07510616535079041,
         "output": -0.05771408678687257,
         "_deepnote_index_column": "chol"
        },
        {
         "age": 0.13145053645308566,
         "sex": 0.0425145329776915,
         "cp": 0.1606270099240149,
         "trtbps": 0.18616353619074336,
         "chol": 0.05042567737540542,
         "fbs": 1,
         "restecg": -0.07393990212994042,
         "thalachh": -0.002542497718358875,
         "exng": 0.007045260554907963,
         "oldpeak": -0.004606431765211315,
         "slp": -0.06251136485011373,
         "caa": 0.0983543240939419,
         "thall": -0.028194300302033647,
         "output": -0.0009242327751699226,
         "_deepnote_index_column": "fbs"
        },
        {
         "age": -0.12750012609308903,
         "sex": -0.05001639455714494,
         "cp": 0.008472532829702216,
         "trtbps": -0.06748452481071814,
         "chol": -0.13068416150954987,
         "fbs": -0.07393990212994042,
         "restecg": 1,
         "thalachh": 0.01697273946612958,
         "exng": -0.018210112443567582,
         "oldpeak": 0.009423084671980511,
         "slp": 0.032447344652722775,
         "caa": -0.0423568459322088,
         "thall": 0.04714392220306326,
         "output": 0.0840307245814341,
         "_deepnote_index_column": "restecg"
        },
        {
         "age": -0.3963775341845615,
         "sex": -0.03293539384020776,
         "cp": 0.29069356828998594,
         "trtbps": -0.03763757338483957,
         "chol": 0.012982865647437473,
         "fbs": -0.002542497718358875,
         "restecg": 0.01697273946612958,
         "thalachh": 1,
         "exng": -0.3978499814767215,
         "oldpeak": -0.3449398237459666,
         "slp": 0.3299557435460019,
         "caa": -0.2245130299067329,
         "thall": -0.08392050109520394,
         "output": 0.3934153729217797,
         "_deepnote_index_column": "thalachh"
        },
        {
         "age": 0.14812794562483497,
         "sex": 0.15127994739618958,
         "cp": -0.3609659948993074,
         "trtbps": 0.058673735661267754,
         "chol": 0.041558519790705566,
         "fbs": 0.007045260554907963,
         "restecg": -0.018210112443567582,
         "thalachh": -0.3978499814767215,
         "exng": 1,
         "oldpeak": 0.3147196124816435,
         "slp": -0.2647287154260816,
         "caa": 0.08269132653038934,
         "thall": 0.24150404222419394,
         "output": -0.4432174277993226,
         "_deepnote_index_column": "exng"
        },
        {
         "age": 0.2023524673120084,
         "sex": 0.14950565887000117,
         "cp": -0.14307078013040564,
         "trtbps": 0.13244157016689806,
         "chol": 0.11144186792274904,
         "fbs": -0.004606431765211315,
         "restecg": 0.009423084671980511,
         "thalachh": -0.3449398237459666,
         "exng": 0.3147196124816435,
         "oldpeak": 1,
         "slp": -0.5551519246002492,
         "caa": 0.2253486631832348,
         "thall": 0.20429128082413525,
         "output": -0.44730453119273156,
         "_deepnote_index_column": "oldpeak"
        },
        {
         "age": -0.16334537045028855,
         "sex": -0.04329745826728779,
         "cp": 0.11246505910826549,
         "trtbps": -0.03962600368553102,
         "chol": 0.016555631061916327,
         "fbs": -0.06251136485011373,
         "restecg": 0.032447344652722775,
         "thalachh": 0.3299557435460019,
         "exng": -0.2647287154260816,
         "oldpeak": -0.5551519246002492,
         "slp": 1,
         "caa": -0.04511376492658302,
         "thall": -0.08932451007240576,
         "output": 0.3415759714627766,
         "_deepnote_index_column": "slp"
        },
        {
         "age": 0.2974488369177565,
         "sex": 0.15489692144494005,
         "cp": -0.15417219526971068,
         "trtbps": 0.05691842717375628,
         "chol": 0.022286664764544047,
         "fbs": 0.0983543240939419,
         "restecg": -0.0423568459322088,
         "thalachh": -0.2245130299067329,
         "exng": 0.08269132653038934,
         "oldpeak": 0.2253486631832348,
         "slp": -0.04511376492658302,
         "caa": 1,
         "thall": 0.09330352715394158,
         "output": -0.37539101885219217,
         "_deepnote_index_column": "caa"
        },
        {
         "age": 0.06393280838420179,
         "sex": 0.22089205234378143,
         "cp": -0.18722138835659963,
         "trtbps": 0.006542317129688643,
         "chol": 0.07510616535079041,
         "fbs": -0.028194300302033647,
         "restecg": 0.04714392220306326,
         "thalachh": -0.08392050109520394,
         "exng": 0.24150404222419394,
         "oldpeak": 0.20429128082413525,
         "slp": -0.08932451007240576,
         "caa": 0.09330352715394158,
         "thall": 1,
         "output": -0.3380541462396186,
         "_deepnote_index_column": "thall"
        },
        {
         "age": -0.2337819866725684,
         "sex": -0.30415561209742425,
         "cp": 0.40776800670369756,
         "trtbps": -0.10425694411128235,
         "chol": -0.05771408678687257,
         "fbs": -0.0009242327751699226,
         "restecg": 0.0840307245814341,
         "thalachh": 0.3934153729217797,
         "exng": -0.4432174277993226,
         "oldpeak": -0.44730453119273156,
         "slp": 0.3415759714627766,
         "caa": -0.37539101885219217,
         "thall": -0.3380541462396186,
         "output": 1,
         "_deepnote_index_column": "output"
        }
       ],
       "rows_bottom": null
      },
      "text/plain": "               age       sex        cp    trtbps      chol       fbs  \\\nage       1.000000 -0.099115 -0.103195  0.285224  0.231922  0.131451   \nsex      -0.099115  1.000000 -0.048505 -0.093901 -0.206036  0.042515   \ncp       -0.103195 -0.048505  1.000000  0.028868 -0.072812  0.160627   \ntrtbps    0.285224 -0.093901  0.028868  1.000000  0.147664  0.186164   \nchol      0.231922 -0.206036 -0.072812  0.147664  1.000000  0.050426   \nfbs       0.131451  0.042515  0.160627  0.186164  0.050426  1.000000   \nrestecg  -0.127500 -0.050016  0.008473 -0.067485 -0.130684 -0.073940   \nthalachh -0.396378 -0.032935  0.290694 -0.037638  0.012983 -0.002542   \nexng      0.148128  0.151280 -0.360966  0.058674  0.041559  0.007045   \noldpeak   0.202352  0.149506 -0.143071  0.132442  0.111442 -0.004606   \nslp      -0.163345 -0.043297  0.112465 -0.039626  0.016556 -0.062511   \ncaa       0.297449  0.154897 -0.154172  0.056918  0.022287  0.098354   \nthall     0.063933  0.220892 -0.187221  0.006542  0.075106 -0.028194   \noutput   -0.233782 -0.304156  0.407768 -0.104257 -0.057714 -0.000924   \n\n           restecg  thalachh      exng   oldpeak       slp       caa  \\\nage      -0.127500 -0.396378  0.148128  0.202352 -0.163345  0.297449   \nsex      -0.050016 -0.032935  0.151280  0.149506 -0.043297  0.154897   \ncp        0.008473  0.290694 -0.360966 -0.143071  0.112465 -0.154172   \ntrtbps   -0.067485 -0.037638  0.058674  0.132442 -0.039626  0.056918   \nchol     -0.130684  0.012983  0.041559  0.111442  0.016556  0.022287   \nfbs      -0.073940 -0.002542  0.007045 -0.004606 -0.062511  0.098354   \nrestecg   1.000000  0.016973 -0.018210  0.009423  0.032447 -0.042357   \nthalachh  0.016973  1.000000 -0.397850 -0.344940  0.329956 -0.224513   \nexng     -0.018210 -0.397850  1.000000  0.314720 -0.264729  0.082691   \noldpeak   0.009423 -0.344940  0.314720  1.000000 -0.555152  0.225349   \nslp       0.032447  0.329956 -0.264729 -0.555152  1.000000 -0.045114   \ncaa      -0.042357 -0.224513  0.082691  0.225349 -0.045114  1.000000   \nthall     0.047144 -0.083921  0.241504  0.204291 -0.089325  0.093304   \noutput    0.084031  0.393415 -0.443217 -0.447305  0.341576 -0.375391   \n\n             thall    output  \nage       0.063933 -0.233782  \nsex       0.220892 -0.304156  \ncp       -0.187221  0.407768  \ntrtbps    0.006542 -0.104257  \nchol      0.075106 -0.057714  \nfbs      -0.028194 -0.000924  \nrestecg   0.047144  0.084031  \nthalachh -0.083921  0.393415  \nexng      0.241504 -0.443217  \noldpeak   0.204291 -0.447305  \nslp      -0.089325  0.341576  \ncaa       0.093304 -0.375391  \nthall     1.000000 -0.338054  \noutput   -0.338054  1.000000  ",
      "text/html": "<div>\n<style scoped>\n    .dataframe tbody tr th:only-of-type {\n        vertical-align: middle;\n    }\n\n    .dataframe tbody tr th {\n        vertical-align: top;\n    }\n\n    .dataframe thead th {\n        text-align: right;\n    }\n</style>\n<table border=\"1\" class=\"dataframe\">\n  <thead>\n    <tr style=\"text-align: right;\">\n      <th></th>\n      <th>age</th>\n      <th>sex</th>\n      <th>cp</th>\n      <th>trtbps</th>\n      <th>chol</th>\n      <th>fbs</th>\n      <th>restecg</th>\n      <th>thalachh</th>\n      <th>exng</th>\n      <th>oldpeak</th>\n      <th>slp</th>\n      <th>caa</th>\n      <th>thall</th>\n      <th>output</th>\n    </tr>\n  </thead>\n  <tbody>\n    <tr>\n      <th>age</th>\n      <td>1.000000</td>\n      <td>-0.099115</td>\n      <td>-0.103195</td>\n      <td>0.285224</td>\n      <td>0.231922</td>\n      <td>0.131451</td>\n      <td>-0.127500</td>\n      <td>-0.396378</td>\n      <td>0.148128</td>\n      <td>0.202352</td>\n      <td>-0.163345</td>\n      <td>0.297449</td>\n      <td>0.063933</td>\n      <td>-0.233782</td>\n    </tr>\n    <tr>\n      <th>sex</th>\n      <td>-0.099115</td>\n      <td>1.000000</td>\n      <td>-0.048505</td>\n      <td>-0.093901</td>\n      <td>-0.206036</td>\n      <td>0.042515</td>\n      <td>-0.050016</td>\n      <td>-0.032935</td>\n      <td>0.151280</td>\n      <td>0.149506</td>\n      <td>-0.043297</td>\n      <td>0.154897</td>\n      <td>0.220892</td>\n      <td>-0.304156</td>\n    </tr>\n    <tr>\n      <th>cp</th>\n      <td>-0.103195</td>\n      <td>-0.048505</td>\n      <td>1.000000</td>\n      <td>0.028868</td>\n      <td>-0.072812</td>\n      <td>0.160627</td>\n      <td>0.008473</td>\n      <td>0.290694</td>\n      <td>-0.360966</td>\n      <td>-0.143071</td>\n      <td>0.112465</td>\n      <td>-0.154172</td>\n      <td>-0.187221</td>\n      <td>0.407768</td>\n    </tr>\n    <tr>\n      <th>trtbps</th>\n      <td>0.285224</td>\n      <td>-0.093901</td>\n      <td>0.028868</td>\n      <td>1.000000</td>\n      <td>0.147664</td>\n      <td>0.186164</td>\n      <td>-0.067485</td>\n      <td>-0.037638</td>\n      <td>0.058674</td>\n      <td>0.132442</td>\n      <td>-0.039626</td>\n      <td>0.056918</td>\n      <td>0.006542</td>\n      <td>-0.104257</td>\n    </tr>\n    <tr>\n      <th>chol</th>\n      <td>0.231922</td>\n      <td>-0.206036</td>\n      <td>-0.072812</td>\n      <td>0.147664</td>\n      <td>1.000000</td>\n      <td>0.050426</td>\n      <td>-0.130684</td>\n      <td>0.012983</td>\n      <td>0.041559</td>\n      <td>0.111442</td>\n      <td>0.016556</td>\n      <td>0.022287</td>\n      <td>0.075106</td>\n      <td>-0.057714</td>\n    </tr>\n    <tr>\n      <th>fbs</th>\n      <td>0.131451</td>\n      <td>0.042515</td>\n      <td>0.160627</td>\n      <td>0.186164</td>\n      <td>0.050426</td>\n      <td>1.000000</td>\n      <td>-0.073940</td>\n      <td>-0.002542</td>\n      <td>0.007045</td>\n      <td>-0.004606</td>\n      <td>-0.062511</td>\n      <td>0.098354</td>\n      <td>-0.028194</td>\n      <td>-0.000924</td>\n    </tr>\n    <tr>\n      <th>restecg</th>\n      <td>-0.127500</td>\n      <td>-0.050016</td>\n      <td>0.008473</td>\n      <td>-0.067485</td>\n      <td>-0.130684</td>\n      <td>-0.073940</td>\n      <td>1.000000</td>\n      <td>0.016973</td>\n      <td>-0.018210</td>\n      <td>0.009423</td>\n      <td>0.032447</td>\n      <td>-0.042357</td>\n      <td>0.047144</td>\n      <td>0.084031</td>\n    </tr>\n    <tr>\n      <th>thalachh</th>\n      <td>-0.396378</td>\n      <td>-0.032935</td>\n      <td>0.290694</td>\n      <td>-0.037638</td>\n      <td>0.012983</td>\n      <td>-0.002542</td>\n      <td>0.016973</td>\n      <td>1.000000</td>\n      <td>-0.397850</td>\n      <td>-0.344940</td>\n      <td>0.329956</td>\n      <td>-0.224513</td>\n      <td>-0.083921</td>\n      <td>0.393415</td>\n    </tr>\n    <tr>\n      <th>exng</th>\n      <td>0.148128</td>\n      <td>0.151280</td>\n      <td>-0.360966</td>\n      <td>0.058674</td>\n      <td>0.041559</td>\n      <td>0.007045</td>\n      <td>-0.018210</td>\n      <td>-0.397850</td>\n      <td>1.000000</td>\n      <td>0.314720</td>\n      <td>-0.264729</td>\n      <td>0.082691</td>\n      <td>0.241504</td>\n      <td>-0.443217</td>\n    </tr>\n    <tr>\n      <th>oldpeak</th>\n      <td>0.202352</td>\n      <td>0.149506</td>\n      <td>-0.143071</td>\n      <td>0.132442</td>\n      <td>0.111442</td>\n      <td>-0.004606</td>\n      <td>0.009423</td>\n      <td>-0.344940</td>\n      <td>0.314720</td>\n      <td>1.000000</td>\n      <td>-0.555152</td>\n      <td>0.225349</td>\n      <td>0.204291</td>\n      <td>-0.447305</td>\n    </tr>\n    <tr>\n      <th>slp</th>\n      <td>-0.163345</td>\n      <td>-0.043297</td>\n      <td>0.112465</td>\n      <td>-0.039626</td>\n      <td>0.016556</td>\n      <td>-0.062511</td>\n      <td>0.032447</td>\n      <td>0.329956</td>\n      <td>-0.264729</td>\n      <td>-0.555152</td>\n      <td>1.000000</td>\n      <td>-0.045114</td>\n      <td>-0.089325</td>\n      <td>0.341576</td>\n    </tr>\n    <tr>\n      <th>caa</th>\n      <td>0.297449</td>\n      <td>0.154897</td>\n      <td>-0.154172</td>\n      <td>0.056918</td>\n      <td>0.022287</td>\n      <td>0.098354</td>\n      <td>-0.042357</td>\n      <td>-0.224513</td>\n      <td>0.082691</td>\n      <td>0.225349</td>\n      <td>-0.045114</td>\n      <td>1.000000</td>\n      <td>0.093304</td>\n      <td>-0.375391</td>\n    </tr>\n    <tr>\n      <th>thall</th>\n      <td>0.063933</td>\n      <td>0.220892</td>\n      <td>-0.187221</td>\n      <td>0.006542</td>\n      <td>0.075106</td>\n      <td>-0.028194</td>\n      <td>0.047144</td>\n      <td>-0.083921</td>\n      <td>0.241504</td>\n      <td>0.204291</td>\n      <td>-0.089325</td>\n      <td>0.093304</td>\n      <td>1.000000</td>\n      <td>-0.338054</td>\n    </tr>\n    <tr>\n      <th>output</th>\n      <td>-0.233782</td>\n      <td>-0.304156</td>\n      <td>0.407768</td>\n      <td>-0.104257</td>\n      <td>-0.057714</td>\n      <td>-0.000924</td>\n      <td>0.084031</td>\n      <td>0.393415</td>\n      <td>-0.443217</td>\n      <td>-0.447305</td>\n      <td>0.341576</td>\n      <td>-0.375391</td>\n      <td>-0.338054</td>\n      <td>1.000000</td>\n    </tr>\n  </tbody>\n</table>\n</div>"
     },
     "metadata": {}
    }
   ],
   "execution_count": null
  },
  {
   "cell_type": "code",
   "source": "plt.figure(figsize=(20,10))\nsns.heatmap(corr_matrix, annot=True, cmap=plt.cm.gray)",
   "metadata": {
    "tags": [],
    "cell_id": "00086-8ad2f107-8020-4982-99ff-d9ca1cf8edd3",
    "deepnote_to_be_reexecuted": false,
    "source_hash": "6debd3f3",
    "execution_start": 1621460630437,
    "execution_millis": 1559,
    "deepnote_cell_type": "code"
   },
   "outputs": [
    {
     "output_type": "execute_result",
     "execution_count": 56,
     "data": {
      "text/plain": "<AxesSubplot:>"
     },
     "metadata": {}
    },
    {
     "data": {
      "text/plain": "<Figure size 1440x720 with 2 Axes>",
      "image/png": "[encoded data removed]"
     },
     "metadata": {
      "needs_background": "light",
      "image/png": {
       "width": 1072,
       "height": 579
      }
     },
     "output_type": "display_data"
    }
   ],
   "execution_count": null
  },
  {
   "cell_type": "markdown",
   "source": "Thus we can conclude that there isn't any real correlation between these variables except for the one between slp and old peak",
   "metadata": {
    "tags": [],
    "cell_id": "00088-4a84ca8e-1380-4566-aa0b-226e1767bbf2",
    "deepnote_cell_type": "markdown"
   }
  },
  {
   "cell_type": "markdown",
   "source": "As for the correlation with the output, the variables that correlate most with the output are exng, oldpeak and caa and thall although all of the correlations are over -0.5",
   "metadata": {
    "tags": [],
    "cell_id": "00089-2e0dd689-9bad-4459-80dd-38e1456aaf9b",
    "deepnote_cell_type": "markdown"
   }
  },
  {
   "cell_type": "markdown",
   "source": "<a style='text-decoration:none;line-height:16px;display:flex;color:#5B5B62;padding:10px;justify-content:end;' href='https://deepnote.com?utm_source=created-in-deepnote-cell&projectId=f79ded91-0775-416a-9692-d0d080c1d3fa' target=\"_blank\">\n<img alt='Created in deepnote.com' style='display:inline;max-height:16px;margin:0px;margin-right:7.5px;' src='data:image/svg+xml;base64,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' > </img>\nCreated in <span style='font-weight:600;margin-left:4px;'>Deepnote</span></a>",
   "metadata": {
    "tags": [],
    "created_in_deepnote_cell": true,
    "deepnote_cell_type": "markdown"
   }
  }
 ],
 "nbformat": 4,
 "nbformat_minor": 2,
 "metadata": {
  "orig_nbformat": 2,
  "deepnote_notebook_id": "73e3730e-310b-49a9-bed9-d37fd2516a71",
  "deepnote": {},
  "deepnote_execution_queue": []
 }
}